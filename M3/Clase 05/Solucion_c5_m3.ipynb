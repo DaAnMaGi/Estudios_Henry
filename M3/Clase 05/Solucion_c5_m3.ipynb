{
 "cells": [
  {
   "cell_type": "markdown",
   "metadata": {},
   "source": [
    "![HenryLogo](https://d31uz8lwfmyn8g.cloudfront.net/Assets/logo-henry-white-lg.png)\n",
    "\n",
    "## Homework\n",
    "\n",
    "Con el objetivo de asegurarse de que la calidad de la información con la que se va a trabajar sea la óptima, es necesario realizar una lista de propuestas de mejora teniendo en cuenta los siguientes puntos:\n",
    "\n",
    "1) ¿Qué tan actualizada está la información? ¿La forma en que se actualiza ó mantiene esa información se puede mejorar?\n",
    "2) ¿Los datos están completos en todas las tablas?\n",
    "3) ¿Se conocen las fuentes de los datos?\n",
    "4) Al integrar éstos datos, es prudente que haya una normalización respecto de nombrar las tablas y sus campos.\n",
    "5) Es importante revisar la consistencia de los datos: \n",
    "    - ¿Se pueden relacionar todas las tablas al modelo? \n",
    "    - ¿Cuáles son las tablas de hechos y las tablas dimensionales o maestros? \n",
    "    - ¿Podemos hacer esa separación en los datos que tenemos (tablas de hecho y dimensiones)? \n",
    "    - ¿Hay claves duplicadas? \n",
    "    - ¿Cuáles son variables cualitativas y cuáles son cuantitativas? \n",
    "    - ¿Qué acciones podemos aplicar sobre las mismas?\n",
    "6) Utilizar el procedimiento provisto 'Llenar_Calendario' (Homework_Utiles.sql) para poblar la tabla de calendario."
   ]
  },
  {
   "cell_type": "code",
   "execution_count": 1,
   "metadata": {},
   "outputs": [],
   "source": [
    "# Número 1 --> La información fue actualizada por última vez en 2015. Se puede mejorar, ya que esta se hace manual, lo que puede generar retrasos y mala subida de los datos.\n",
    "# Número 2 --> No, se presentan datos nulos o vacíos.\n",
    "# Número 3 --> El equipo de Marketing debería proporcionar información sobre la construcción de las tablas. Pero de momento esta se mantiene relativamente desconocida.\n",
    "# Número 4 --> De acuerdo. \n",
    "# Numero 5 --> \n",
    "    # Sí, se pueden relacionar todas las tablas del modelo.\n",
    "    # Las tablas de hechos son las Compra, Ventas, Gasto\n",
    "        # Las dimensionales son canalventa, clientes, empleados, productos, proveedores, sucursales, tipogasto.\n",
    "    # Sí, es posible identificar las primary key y las foreign key en cada tabla a partir de los datos que se tienen.\n",
    "    # Sí, hay repetidos en la tabla de empleados.\n",
    "    # Los tipos de variables son, por tipo de tabla. Se puede distinguir los categóricos (nombres, teléfonos, indicaciones, ID,fechas) de los cuantitativos (precios, salarios, montos de gastos, latitud, longitud)\n",
    "    # Dependiendo del tipo de dato, podemos "
   ]
  },
  {
   "cell_type": "markdown",
   "metadata": {},
   "source": [
    "### Limpieza, Valores faltantes\n",
    "\n",
    "6) Normalizar los nombres de los campos y colocar el tipo de dato adecuado para cada uno en cada una de las tablas. Descartar columnas que consideres que no tienen relevancia.\n",
    "7) Buscar valores faltantes y campos inconsistentes en las tablas sucursal, proveedor, empleado y cliente. De encontrarlos, deberás corregirlos o desestimarlos. Propone y realiza una acción correctiva sobre ese problema.\n",
    "8) Utilizar la funcion provista 'UC_Words' (Homework_Utiles.sql) para modificar a letra capital los campos que contengan descripciones para todas las tablas.\n",
    "9) Chequear la consistencia de los campos precio y cantidad de la tabla de ventas.\n",
    "10) Chequear que no haya claves duplicadas, y de encontrarla en alguna de las tablas, proponer una solución."
   ]
  },
  {
   "cell_type": "code",
   "execution_count": null,
   "metadata": {},
   "outputs": [],
   "source": []
  },
  {
   "cell_type": "markdown",
   "metadata": {},
   "source": [
    "### Normalización\n",
    "\n",
    "10) Generar dos nuevas tablas a partir de la tabla 'empelado' que contengan las entidades Cargo y Sector.\n",
    "11) Generar una nueva tabla a partir de la tabla 'producto' que contenga la entidad Tipo de Producto.\n",
    "\n",
    "7. Utilizar la funcion provista 'UC_Words' (Homework_Utiles.sql) para modificar a letra capital los campos que contengan descripciones para todas las tablas.\n",
    "\n",
    "8. Utilizar el procedimiento provisto 'Llenar_Calendario' (Homework_Utiles.sql) para poblar la tabla de calendario."
   ]
  },
  {
   "cell_type": "code",
   "execution_count": null,
   "metadata": {},
   "outputs": [],
   "source": []
  }
 ],
 "metadata": {
  "kernelspec": {
   "display_name": "Python 3",
   "language": "python",
   "name": "python3"
  },
  "language_info": {
   "codemirror_mode": {
    "name": "ipython",
    "version": 3
   },
   "file_extension": ".py",
   "mimetype": "text/x-python",
   "name": "python",
   "nbconvert_exporter": "python",
   "pygments_lexer": "ipython3",
   "version": "3.11.5"
  },
  "orig_nbformat": 4
 },
 "nbformat": 4,
 "nbformat_minor": 2
}
