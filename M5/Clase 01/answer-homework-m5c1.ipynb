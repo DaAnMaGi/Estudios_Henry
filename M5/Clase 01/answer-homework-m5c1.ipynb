{
 "cells": [
  {
   "cell_type": "markdown",
   "metadata": {},
   "source": [
    "## Solución homework clase 1 modulo 5"
   ]
  },
  {
   "cell_type": "markdown",
   "metadata": {},
   "source": [
    "Pregunta 1\n",
    "\n",
    "Desde la gerencia de ventas nos comentan que es necesario aumentar el volumen de facturación y cobertura de regiones ( tener clientes en la mayor cantidad posible de zonas) y también evitar la pérdida de clientes. Hoy por hoy se manejan con un Excel que alguien armó en algún momento, pero no confían en esa data para seguir este nuevo objetivo, de manera tal que no se conoce realmente el estado de situación actual. Por lo tanto, como departamento de Data Analytics tenemos que presentarles una propuesta basada en datos para acompañar este proceso de negocio.\n",
    "\n",
    "Con base al modelo de datos utilizado en M3 generar una propuesta analítica de cada tipo según lo visto en clase:\n",
    "\n",
    "a) Descriptivo\n",
    "b) Dashboard\n",
    "c) Predictivo\n",
    "d) Prescriptivo"
   ]
  },
  {
   "cell_type": "code",
   "execution_count": 2,
   "metadata": {},
   "outputs": [],
   "source": [
    "# Respuestas \n",
    "\n",
    "# A) Descriptivo - ¿Cuál es el número total de clientes por punto de venta? ¿En qué punto de venta se realiza la mayor ganancia? \n",
    "\n",
    "# B) Dashboard - ¿Cuál es la mejor forma de presentar las ventas por punto de venta? ¿Y el número de clientes? ¿Qué hace que se generen mayores ventas en un punto de venta en comparación a otro?\n",
    "\n",
    "# c) Predictivo - La tienda X, que históricamente ha sido la que más ventas ha generado en diciembre, volverá a ser la que más ventas genere en este mes con un crecimiento del 5%.\n",
    "\n",
    "# d) Prescriptivo - Para la tienda X debe de prepararse mayor inventario de los productos Y, Z y A para preparse para la época de diciembre"
   ]
  },
  {
   "cell_type": "markdown",
   "metadata": {},
   "source": [
    "Actividad 2\n",
    "\n",
    "Relaciona cada situación con algún tipo de gráfico:\n",
    "\n",
    "a) Velocidad de frenado promedio de 5 modelos distintos de vehículos.\n",
    "* Eje x = modelos de vehículos.\n",
    "* Eje y = Velocidad promedio de frenado.\n",
    "\n",
    "b) Costo de una llamada por segundos.\n",
    "* Eje x = Costo de la llamada.\n",
    "* Eje y = Segundos de duración.\n",
    "\n",
    "c) El recorrido del equipo de ventas de una distribuidora con 4 paradas y las sumas vendidas en cada una.\n",
    "* Latiud y longitud de cada parada.\n",
    "* Importe de ventas totales en cada punto.\n",
    "\n",
    "d) Cantidad de edificios y casas que conforman un barrio. Dos categorías.\n",
    "* Cantidad total por categoría."
   ]
  },
  {
   "cell_type": "code",
   "execution_count": 3,
   "metadata": {},
   "outputs": [],
   "source": [
    "# A) Gráficos comparativos. POr ejemplo, un bar chart o un column chart.\n",
    "# b) Gráfico comparativo, por ejemplo, un line chart.\n",
    "# c) Gráfico de distribución. COmo un gráfico de 3d.\n",
    "# d) Gráfico de composición, estático, en pie chart."
   ]
  },
  {
   "cell_type": "markdown",
   "metadata": {},
   "source": [
    "Actividad 3\n",
    "\n",
    "El siguiente gráfico representa el movimiento vehículo desde un punto en línea recta. Interprétala y responde a las siguientes preguntas:\n",
    "\n",
    "a) ¿Cuánto tiempo ha estado andando?\n",
    "\n",
    "b) ¿Hasta qué distancia máxima del recorrido pudo realizar?\n",
    "\n",
    "c) ¿Ha hecho alguna parada?\n",
    "\n",
    "d) ¿Qué sucede luego del pico de metros recorrido?\n",
    "\n",
    "e) ¿Cuántos metros recorrió en total?"
   ]
  },
  {
   "cell_type": "code",
   "execution_count": 4,
   "metadata": {},
   "outputs": [],
   "source": [
    "# a) 14 minutos.\n",
    "# b) 80 metros\n",
    "# c) POdría considerarse el intervalo entre el minuto 2 al 4 como una parada ya que no avanzó ni retrocedió.\n",
    "# d) Se regresa al punto de origen después de llegar al pico de metros (el pico baja)\n",
    "# e) 160 metros (80 metros de ida, y 80 de regreso)"
   ]
  },
  {
   "cell_type": "markdown",
   "metadata": {},
   "source": [
    "Actividad 4\n",
    "\n",
    "Se decide presentar el volumen de ventas de 5 productos correspondientes a una distribuidora de alimentos. Los productos van de A = 100 un., B = 95 un., C =90 un., D = 88 un., E = 105 un.\n",
    "\n",
    "a) ¿Qué gráfico utilizaría?\n",
    "b) ¿Sería correcto utilizar un gráfico de líneas? ¿Por qué?\n",
    "c) ¿Sería correcto utilizar un gráfico circular? ¿Por qué?"
   ]
  },
  {
   "cell_type": "code",
   "execution_count": 6,
   "metadata": {},
   "outputs": [],
   "source": [
    "# a) Un gráfico de comparación, con bar chart. \n",
    "# b) En este caso no sería lo más recomendable ya que no se están haciendo comparaciones de tiempo. \n",
    "# c) Se podría utilizar para presentar una descripción de la composición de la muestra, aunque dependerá del propósito."
   ]
  },
  {
   "cell_type": "markdown",
   "metadata": {},
   "source": [
    "Actividad 5\n",
    "\n",
    "Responde las preguntas a partir de la lectura del siguiente gráfico:\n",
    "\n",
    "a) ¿Es correcta su utilización?\n",
    "\n",
    "b) ¿Qué inconveniente presenta a la hora de reconocer patrones?\n",
    "\n",
    "c) ¿Qué otros tipos de gráficos utilizaría?\n",
    "\n",
    "d) ¿Que tipo de temáticas estarían relacionadas a la variable presentada?\n"
   ]
  },
  {
   "cell_type": "code",
   "execution_count": null,
   "metadata": {},
   "outputs": [],
   "source": [
    "# a) no\n",
    "# b) no permite una correcta visualización de la información, ni resulta práctico para poder entender la variación entre cada uno de los patrones.\n",
    "# c) Un gráfico de distribución. \n",
    "# d) Calidad de un producto o servicio, velocidad de atención de un servicio. "
   ]
  }
 ],
 "metadata": {
  "kernelspec": {
   "display_name": "Python 3",
   "language": "python",
   "name": "python3"
  },
  "language_info": {
   "codemirror_mode": {
    "name": "ipython",
    "version": 3
   },
   "file_extension": ".py",
   "mimetype": "text/x-python",
   "name": "python",
   "nbconvert_exporter": "python",
   "pygments_lexer": "ipython3",
   "version": "3.11.5"
  }
 },
 "nbformat": 4,
 "nbformat_minor": 2
}
