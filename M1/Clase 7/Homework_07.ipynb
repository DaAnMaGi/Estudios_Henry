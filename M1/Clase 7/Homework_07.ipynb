{
 "cells": [
  {
   "cell_type": "markdown",
   "metadata": {},
   "source": [
    "# Práctica Clase 7"
   ]
  },
  {
   "cell_type": "markdown",
   "metadata": {},
   "source": [
    "1) Diseñar una clase que permita trabajar con un árbol binario y que contenga los métodos:<br>\n",
    "    * insertaVal: para insertar un dato<br>\n",
    "    * buscaVal: que devuelva True o False si existe o no un dato<br>\n",
    "    * verVal: que imprima por pantalla los valores del árbol<br>\n",
    "\n",
    "Nota: Se puede utilizar la recursividad\n"
   ]
  },
  {
   "cell_type": "code",
   "execution_count": 134,
   "metadata": {},
   "outputs": [],
   "source": [
    "class Arbol:\n",
    "    def __init__(self,dato):\n",
    "        self.dato = dato\n",
    "        self.izquierda = None\n",
    "        self.derecha = None\n",
    "        \n",
    "        return None\n",
    "    \n",
    "    def insertarVal(self,valor):\n",
    "        if self.dato:\n",
    "            if valor < self.dato:\n",
    "                if self.izquierda == None:\n",
    "                    self.izquierda = Arbol(valor)\n",
    "                else: self.izquierda.insertarVal(valor)\n",
    "            elif valor > self.dato:\n",
    "                if self.derecha == None:\n",
    "                    self.derecha = Arbol(valor)\n",
    "                else: self.derecha.insertarVal(valor)\n",
    "        else: \n",
    "            self.dato = valor\n",
    "    \n",
    "    def verRaiz(self):\n",
    "        return self.dato\n",
    "\n",
    "    def buscarVal(self,valor):\n",
    "        if valor < self.dato:\n",
    "            if self.izquierda == None:\n",
    "                return False\n",
    "            return self.izquierda.buscarVal(valor)\n",
    "        elif valor > self.dato:\n",
    "            if self.derecha == None:\n",
    "                return False\n",
    "            return self.derecha.buscarVal(valor)\n",
    "        else: \n",
    "            return True\n",
    "    \n",
    "    def verVal_profe(self,espacio=0):\n",
    "        if self.dato is not None:\n",
    "            self.izquierda.verVal_profe(espacio + 1)\n",
    "            print(\"    \" * espacio + self.dato + \"\\n\")\n",
    "            self.derecha.verVal_profe(espacio + 1)\n",
    "    \n",
    "    def verVal_yo(self,espacio=0):\n",
    "        if self.izquierda:\n",
    "            self.izquierda.verVal_yo(espacio + 1)\n",
    "        \n",
    "        print(\"    \" * espacio + str(self.dato) + \"\\n\")\n",
    "\n",
    "        if self.derecha:\n",
    "            self.derecha.verVal_yo(espacio + 1)\n"
   ]
  },
  {
   "cell_type": "code",
   "execution_count": 135,
   "metadata": {},
   "outputs": [],
   "source": [
    "a = Arbol(20)"
   ]
  },
  {
   "cell_type": "code",
   "execution_count": 136,
   "metadata": {},
   "outputs": [],
   "source": [
    "a.insertarVal(10)"
   ]
  },
  {
   "cell_type": "code",
   "execution_count": 137,
   "metadata": {},
   "outputs": [
    {
     "data": {
      "text/plain": [
       "20"
      ]
     },
     "execution_count": 137,
     "metadata": {},
     "output_type": "execute_result"
    }
   ],
   "source": [
    "a.verRaiz()"
   ]
  },
  {
   "cell_type": "code",
   "execution_count": 138,
   "metadata": {},
   "outputs": [],
   "source": [
    "a.insertarVal(22)"
   ]
  },
  {
   "cell_type": "code",
   "execution_count": 139,
   "metadata": {},
   "outputs": [
    {
     "data": {
      "text/plain": [
       "10"
      ]
     },
     "execution_count": 139,
     "metadata": {},
     "output_type": "execute_result"
    }
   ],
   "source": [
    "a.izquierda.verRaiz()"
   ]
  },
  {
   "cell_type": "code",
   "execution_count": 140,
   "metadata": {},
   "outputs": [],
   "source": [
    "a.insertarVal(5)"
   ]
  },
  {
   "cell_type": "code",
   "execution_count": 141,
   "metadata": {},
   "outputs": [],
   "source": [
    "a.insertarVal(11)"
   ]
  },
  {
   "cell_type": "code",
   "execution_count": 142,
   "metadata": {},
   "outputs": [
    {
     "data": {
      "text/plain": [
       "11"
      ]
     },
     "execution_count": 142,
     "metadata": {},
     "output_type": "execute_result"
    }
   ],
   "source": [
    "a.izquierda.derecha.verRaiz()"
   ]
  },
  {
   "cell_type": "code",
   "execution_count": 143,
   "metadata": {},
   "outputs": [
    {
     "data": {
      "text/plain": [
       "True"
      ]
     },
     "execution_count": 143,
     "metadata": {},
     "output_type": "execute_result"
    }
   ],
   "source": [
    "a.buscarVal(5)"
   ]
  },
  {
   "cell_type": "code",
   "execution_count": 145,
   "metadata": {},
   "outputs": [],
   "source": [
    "a.insertarVal(32)\n",
    "a.insertarVal(21)\n",
    "a.insertarVal(6)\n",
    "a.insertarVal(3)"
   ]
  },
  {
   "cell_type": "code",
   "execution_count": 146,
   "metadata": {},
   "outputs": [
    {
     "name": "stdout",
     "output_type": "stream",
     "text": [
      "            3\n",
      "\n",
      "        5\n",
      "\n",
      "            6\n",
      "\n",
      "    10\n",
      "\n",
      "        11\n",
      "\n",
      "20\n",
      "\n",
      "        21\n",
      "\n",
      "    22\n",
      "\n",
      "        32\n",
      "\n"
     ]
    }
   ],
   "source": [
    "a.verVal_yo()"
   ]
  },
  {
   "cell_type": "code",
   "execution_count": null,
   "metadata": {},
   "outputs": [],
   "source": []
  }
 ],
 "metadata": {
  "kernelspec": {
   "display_name": "Python 3",
   "language": "python",
   "name": "python3"
  },
  "language_info": {
   "codemirror_mode": {
    "name": "ipython",
    "version": 3
   },
   "file_extension": ".py",
   "mimetype": "text/x-python",
   "name": "python",
   "nbconvert_exporter": "python",
   "pygments_lexer": "ipython3",
   "version": "3.11.4"
  }
 },
 "nbformat": 4,
 "nbformat_minor": 4
}
