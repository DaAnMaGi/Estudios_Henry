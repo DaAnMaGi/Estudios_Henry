{
 "cells": [
  {
   "cell_type": "markdown",
   "metadata": {},
   "source": [
    "# Práctica Clase 7"
   ]
  },
  {
   "cell_type": "markdown",
   "metadata": {},
   "source": [
    "1) Diseñar una clase que permita trabajar con un árbol binario y que contenga los métodos:<br>\n",
    "    * insertaVal: para insertar un dato<br>\n",
    "    * buscaVal: que devuelva True o False si existe o no un dato<br>\n",
    "    * verVal: que imprima por pantalla los valores del árbol<br>\n",
    "\n",
    "Nota: Se puede utilizar la recursividad\n"
   ]
  },
  {
   "cell_type": "code",
   "execution_count": 27,
   "metadata": {},
   "outputs": [],
   "source": [
    "class Arbol:\n",
    "    def __init__(self,dato):\n",
    "        self.dato = dato\n",
    "        self.izquierda = None\n",
    "        self.derecha = None\n",
    "        \n",
    "        return None\n",
    "    \n",
    "    def insertarVal(self,valor):\n",
    "        if self.dato:\n",
    "            if valor < self.dato:\n",
    "                if self.izquierda == None:\n",
    "                    self.izquierda = Arbol(valor)\n",
    "                else: self.izquierda.insertarVal(valor)\n",
    "            elif valor > self.dato:\n",
    "                if self.derecha == None:\n",
    "                    self.derecha = Arbol(valor)\n",
    "                else: self.derecha.insertarVal(valor)\n",
    "        else: \n",
    "            self.dato = valor\n",
    "    \n",
    "    def verRaiz(self):\n",
    "        return self.dato\n",
    "\n",
    "    def buscarVal(self,valor):\n",
    "        if valor < self.dato:\n",
    "            if self.izquierda == None:\n",
    "                return False\n",
    "            return self.izquierda.buscarVal(valor)\n",
    "        elif valor > self.dato:\n",
    "            if self.derecha == None:\n",
    "                return False\n",
    "            return self.derecha.buscarVal(valor)\n",
    "        else: \n",
    "            return True\n",
    "    \n",
    "    def verVal(self):\n",
    "        if self.izquierda:\n",
    "            self.izquierda.verVal()\n",
    "        \n",
    "        print(self.dato)\n",
    "\n",
    "        if self.derecha:\n",
    "            self.derecha.verVal()\n"
   ]
  },
  {
   "cell_type": "code",
   "execution_count": 28,
   "metadata": {},
   "outputs": [],
   "source": [
    "a = Arbol(20)"
   ]
  },
  {
   "cell_type": "code",
   "execution_count": 29,
   "metadata": {},
   "outputs": [],
   "source": [
    "a.insertarVal(10)"
   ]
  },
  {
   "cell_type": "code",
   "execution_count": 30,
   "metadata": {},
   "outputs": [
    {
     "data": {
      "text/plain": [
       "20"
      ]
     },
     "execution_count": 30,
     "metadata": {},
     "output_type": "execute_result"
    }
   ],
   "source": [
    "a.verRaiz()"
   ]
  },
  {
   "cell_type": "code",
   "execution_count": 31,
   "metadata": {},
   "outputs": [],
   "source": [
    "a.insertarVal(22)"
   ]
  },
  {
   "cell_type": "code",
   "execution_count": 32,
   "metadata": {},
   "outputs": [
    {
     "data": {
      "text/plain": [
       "10"
      ]
     },
     "execution_count": 32,
     "metadata": {},
     "output_type": "execute_result"
    }
   ],
   "source": [
    "a.izquierda.verRaiz()"
   ]
  },
  {
   "cell_type": "code",
   "execution_count": 33,
   "metadata": {},
   "outputs": [],
   "source": [
    "a.insertarVal(5)"
   ]
  },
  {
   "cell_type": "code",
   "execution_count": 34,
   "metadata": {},
   "outputs": [],
   "source": [
    "a.insertarVal(11)"
   ]
  },
  {
   "cell_type": "code",
   "execution_count": 35,
   "metadata": {},
   "outputs": [
    {
     "data": {
      "text/plain": [
       "11"
      ]
     },
     "execution_count": 35,
     "metadata": {},
     "output_type": "execute_result"
    }
   ],
   "source": [
    "a.izquierda.derecha.verRaiz()"
   ]
  },
  {
   "cell_type": "code",
   "execution_count": 36,
   "metadata": {},
   "outputs": [
    {
     "data": {
      "text/plain": [
       "True"
      ]
     },
     "execution_count": 36,
     "metadata": {},
     "output_type": "execute_result"
    }
   ],
   "source": [
    "a.buscarVal(5)"
   ]
  },
  {
   "cell_type": "code",
   "execution_count": 38,
   "metadata": {},
   "outputs": [
    {
     "name": "stdout",
     "output_type": "stream",
     "text": [
      "5\n",
      "10\n",
      "11\n",
      "20\n",
      "22\n"
     ]
    }
   ],
   "source": [
    "a.verVal()"
   ]
  },
  {
   "cell_type": "code",
   "execution_count": null,
   "metadata": {},
   "outputs": [],
   "source": []
  }
 ],
 "metadata": {
  "kernelspec": {
   "display_name": "Python 3",
   "language": "python",
   "name": "python3"
  },
  "language_info": {
   "codemirror_mode": {
    "name": "ipython",
    "version": 3
   },
   "file_extension": ".py",
   "mimetype": "text/x-python",
   "name": "python",
   "nbconvert_exporter": "python",
   "pygments_lexer": "ipython3",
   "version": "3.11.4"
  }
 },
 "nbformat": 4,
 "nbformat_minor": 4
}
