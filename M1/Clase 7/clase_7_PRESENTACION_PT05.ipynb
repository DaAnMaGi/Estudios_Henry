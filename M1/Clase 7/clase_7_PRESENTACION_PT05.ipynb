{
 "cells": [
  {
   "cell_type": "markdown",
   "id": "8d5d45dd",
   "metadata": {
    "slideshow": {
     "slide_type": "slide"
    }
   },
   "source": [
    "# Clase 7: Árboles"
   ]
  },
  {
   "cell_type": "markdown",
   "id": "c4eb0d34",
   "metadata": {
    "slideshow": {
     "slide_type": "slide"
    }
   },
   "source": [
    "Los árboles son estructuras de datos que consiste en una serie de **nodos** conectados entre ellos y que se asemeja a un árbol (al revés). \n",
    "\n",
    "Para que una estructura de nodos sea un árbol tiene que ser:\n",
    "- **dirigido** (o sea que se pueda ir de un nodo al hijo, pero no al revés, como en las listas enlazadas)\n",
    "\n",
    "![Grafo](imagenes/undirected.png) "
   ]
  },
  {
   "cell_type": "markdown",
   "id": "e7faf3d9",
   "metadata": {},
   "source": [
    "![dirigido](imagenes/directed.png)"
   ]
  },
  {
   "cell_type": "markdown",
   "id": "14e7a062",
   "metadata": {},
   "source": [
    "- no tiene que tener **ciclos** (o sea que no exista un camino para llegar de un nodo al mismo nodo sin pasar dos veces por otro nodo)\n",
    "\n",
    "![ciclo](imagenes/ciclo.png)"
   ]
  },
  {
   "cell_type": "markdown",
   "id": "f9083063",
   "metadata": {},
   "source": [
    "- tiene que ser **conexo**, es decir que no haya nodos 'sueltos'\n",
    "\n",
    "![conexo](imagenes/no_conexo.png)"
   ]
  },
  {
   "cell_type": "markdown",
   "id": "0627eed1",
   "metadata": {},
   "source": [
    "- dos nodos cualesquiera tienen que estar conectados sólo por **un único camino**."
   ]
  },
  {
   "cell_type": "markdown",
   "id": "a7d8f3ef",
   "metadata": {},
   "source": [
    "Todo árbol tiene:\n",
    "\n",
    "- **Raíz** - El nodo superior del árbol.\n",
    "- **Hojas** - Nodos sin hijos.\n",
    "![raiz](imagenes/tiposdenodos.png)\n",
    "- **Padre** - Nodo con hijos.\n",
    "- **Hijo** - Nodo descendiente de otro nodo.\n",
    "- **Hermanos** - Nodos que comparten el mismo padre.\n",
    "\n",
    "![parent](imagenes/nodospadrehijohermano.png)\n",
    "\n",
    "- **Nivel** - El nivel de un nodo está definido por el número de conexiones entre el nodo y la raíz.\n",
    "![niveles](imagenes/alturaniveles.png)\n",
    "- **Camino** - Una secuencia de nodos por los que tenemos que pasar para llegar de un nodo a otro."
   ]
  },
  {
   "cell_type": "markdown",
   "id": "156e2327",
   "metadata": {},
   "source": [
    "## Ejemplos\n",
    "\n",
    "- Casi todos los sistemas operativos almacenan sus **archivos** en árboles o estructuras similares a árboles.\n",
    "\n",
    "![dirtree](imagenes/dirtree.png)"
   ]
  },
  {
   "cell_type": "markdown",
   "id": "19ca3890",
   "metadata": {},
   "source": [
    "La definición de árbol es muy general, por ejemplo, **una lista enlazada es un árbol**, cuya raíz es la cabeza y cada nodo tiene un sólo hijo; es un caso particular de un árbol. \n",
    "\n",
    "Es más, **un árbol es un caso particular de un grafo**. \n",
    "\n",
    "También podemos definir al árbol de forma **recursiva**, ya que si lo pensamos, **cada nodo es un árbol**, o sea que un árbol está formado por árboles. Veamos algunos tipos de árboles que vamos a usar."
   ]
  },
  {
   "cell_type": "markdown",
   "id": "d756c348",
   "metadata": {},
   "source": [
    "### Arbol"
   ]
  },
  {
   "cell_type": "code",
   "execution_count": 2,
   "id": "517d7392",
   "metadata": {},
   "outputs": [],
   "source": [
    "class Nodo:\n",
    "    def __init__(self, dato):\n",
    "        self.valor = dato\n",
    "        return None\n",
    "    \n",
    "    def getDato(self):\n",
    "        return self.valor\n",
    "    \n",
    "    def setDato(self, dato):\n",
    "        self.valor = dato\n",
    "        return None"
   ]
  },
  {
   "cell_type": "code",
   "execution_count": 38,
   "id": "248760b5",
   "metadata": {},
   "outputs": [],
   "source": [
    "class Arbol:\n",
    "    def __init__(self):\n",
    "        self.raiz  = None\n",
    "        self.hijos = []\n",
    "        return None\n",
    "    \n",
    "    def insertarNodo(self, dato):\n",
    "        nodo = Nodo(dato)\n",
    "        \n",
    "        if self.raiz == None:\n",
    "            self.raiz = nodo\n",
    "        else:\n",
    "            nodo_hijo = Arbol()\n",
    "            nodo_hijo.raiz = nodo\n",
    "            self.hijos.append(nodo_hijo)\n",
    "        return None\n",
    "    \n",
    "    def verRaiz(self):\n",
    "        return self.raiz\n",
    "    \n",
    "    def verHijos(self):\n",
    "        return [self.hijos[i].raiz.valor for i in range(len(self.hijos))]\n",
    "    \n",
    "    def imprimirArbol(self, espacio=0):\n",
    "        if self.raiz:\n",
    "            print('     ' * espacio + str(self.raiz.valor))\n",
    "            for nodo in self.hijos:\n",
    "                nodo.imprimirArbol(espacio + 1)"
   ]
  },
  {
   "cell_type": "code",
   "execution_count": 39,
   "id": "a85fafb4",
   "metadata": {},
   "outputs": [
    {
     "data": {
      "text/plain": [
       "10"
      ]
     },
     "execution_count": 39,
     "metadata": {},
     "output_type": "execute_result"
    }
   ],
   "source": [
    "Nodo(10).valor"
   ]
  },
  {
   "cell_type": "code",
   "execution_count": 40,
   "id": "d0158a78",
   "metadata": {},
   "outputs": [],
   "source": [
    "arbol = Arbol()"
   ]
  },
  {
   "cell_type": "code",
   "execution_count": 41,
   "id": "10b98c76",
   "metadata": {},
   "outputs": [
    {
     "name": "stdout",
     "output_type": "stream",
     "text": [
      "None\n"
     ]
    }
   ],
   "source": [
    "print(arbol.raiz)"
   ]
  },
  {
   "cell_type": "code",
   "execution_count": 42,
   "id": "e99be464",
   "metadata": {},
   "outputs": [
    {
     "data": {
      "text/plain": [
       "[]"
      ]
     },
     "execution_count": 42,
     "metadata": {},
     "output_type": "execute_result"
    }
   ],
   "source": [
    "arbol.hijos"
   ]
  },
  {
   "cell_type": "code",
   "execution_count": 43,
   "id": "d55cc1c3",
   "metadata": {},
   "outputs": [],
   "source": [
    "arbol.insertarNodo(0)"
   ]
  },
  {
   "cell_type": "code",
   "execution_count": 44,
   "id": "b1a0338c",
   "metadata": {},
   "outputs": [
    {
     "data": {
      "text/plain": [
       "<__main__.Nodo at 0x2d93bda2d90>"
      ]
     },
     "execution_count": 44,
     "metadata": {},
     "output_type": "execute_result"
    }
   ],
   "source": [
    "arbol.raiz"
   ]
  },
  {
   "cell_type": "code",
   "execution_count": 45,
   "id": "ab7d4307",
   "metadata": {},
   "outputs": [
    {
     "data": {
      "text/plain": [
       "__main__.Nodo"
      ]
     },
     "execution_count": 45,
     "metadata": {},
     "output_type": "execute_result"
    }
   ],
   "source": [
    "type(arbol.raiz)"
   ]
  },
  {
   "cell_type": "code",
   "execution_count": 46,
   "id": "245ca219",
   "metadata": {},
   "outputs": [
    {
     "data": {
      "text/plain": [
       "0"
      ]
     },
     "execution_count": 46,
     "metadata": {},
     "output_type": "execute_result"
    }
   ],
   "source": [
    "arbol.raiz.valor"
   ]
  },
  {
   "cell_type": "code",
   "execution_count": 47,
   "id": "2fb1512a",
   "metadata": {},
   "outputs": [
    {
     "data": {
      "text/plain": [
       "[]"
      ]
     },
     "execution_count": 47,
     "metadata": {},
     "output_type": "execute_result"
    }
   ],
   "source": [
    "arbol.hijos"
   ]
  },
  {
   "cell_type": "code",
   "execution_count": 48,
   "id": "a34463b2",
   "metadata": {},
   "outputs": [],
   "source": [
    "arbol.insertarNodo(1)"
   ]
  },
  {
   "cell_type": "code",
   "execution_count": 49,
   "id": "8b46ff66",
   "metadata": {},
   "outputs": [
    {
     "data": {
      "text/plain": [
       "[<__main__.Arbol at 0x2d93bda2700>]"
      ]
     },
     "execution_count": 49,
     "metadata": {},
     "output_type": "execute_result"
    }
   ],
   "source": [
    "arbol.hijos"
   ]
  },
  {
   "cell_type": "code",
   "execution_count": 50,
   "id": "00f6bac8",
   "metadata": {},
   "outputs": [
    {
     "data": {
      "text/plain": [
       "<__main__.Arbol at 0x2d93bda2700>"
      ]
     },
     "execution_count": 50,
     "metadata": {},
     "output_type": "execute_result"
    }
   ],
   "source": [
    "arbol.hijos[0]"
   ]
  },
  {
   "cell_type": "code",
   "execution_count": 51,
   "id": "56f3ac96",
   "metadata": {},
   "outputs": [
    {
     "data": {
      "text/plain": [
       "__main__.Arbol"
      ]
     },
     "execution_count": 51,
     "metadata": {},
     "output_type": "execute_result"
    }
   ],
   "source": [
    "type(arbol.hijos[0])"
   ]
  },
  {
   "cell_type": "code",
   "execution_count": 52,
   "id": "72c9a14a",
   "metadata": {},
   "outputs": [
    {
     "data": {
      "text/plain": [
       "<__main__.Nodo at 0x2d93bda2970>"
      ]
     },
     "execution_count": 52,
     "metadata": {},
     "output_type": "execute_result"
    }
   ],
   "source": [
    "arbol.hijos[0].raiz"
   ]
  },
  {
   "cell_type": "code",
   "execution_count": 53,
   "id": "33613387",
   "metadata": {},
   "outputs": [
    {
     "data": {
      "text/plain": [
       "1"
      ]
     },
     "execution_count": 53,
     "metadata": {},
     "output_type": "execute_result"
    }
   ],
   "source": [
    "arbol.hijos[0].raiz.valor"
   ]
  },
  {
   "cell_type": "code",
   "execution_count": 54,
   "id": "8b3d3194",
   "metadata": {},
   "outputs": [],
   "source": [
    "arbol.insertarNodo(2)"
   ]
  },
  {
   "cell_type": "code",
   "execution_count": 55,
   "id": "79dbde16",
   "metadata": {},
   "outputs": [],
   "source": [
    "arbol.insertarNodo(3)"
   ]
  },
  {
   "cell_type": "code",
   "execution_count": 56,
   "id": "7187d725",
   "metadata": {},
   "outputs": [
    {
     "data": {
      "text/plain": [
       "<__main__.Nodo at 0x2d93bda2d90>"
      ]
     },
     "execution_count": 56,
     "metadata": {},
     "output_type": "execute_result"
    }
   ],
   "source": [
    "arbol.raiz"
   ]
  },
  {
   "cell_type": "code",
   "execution_count": 57,
   "id": "2d8d7575",
   "metadata": {},
   "outputs": [
    {
     "data": {
      "text/plain": [
       "[<__main__.Arbol at 0x2d93bda2700>,\n",
       " <__main__.Arbol at 0x2d93bda2610>,\n",
       " <__main__.Arbol at 0x2d93bda2b50>]"
      ]
     },
     "execution_count": 57,
     "metadata": {},
     "output_type": "execute_result"
    }
   ],
   "source": [
    "arbol.hijos"
   ]
  },
  {
   "cell_type": "code",
   "execution_count": 58,
   "id": "f2af90f6",
   "metadata": {},
   "outputs": [
    {
     "data": {
      "text/plain": [
       "0"
      ]
     },
     "execution_count": 58,
     "metadata": {},
     "output_type": "execute_result"
    }
   ],
   "source": [
    "arbol.raiz.valor"
   ]
  },
  {
   "cell_type": "code",
   "execution_count": 59,
   "id": "6f3c2d37",
   "metadata": {},
   "outputs": [
    {
     "data": {
      "text/plain": [
       "1"
      ]
     },
     "execution_count": 59,
     "metadata": {},
     "output_type": "execute_result"
    }
   ],
   "source": [
    "arbol.hijos[0].raiz.valor"
   ]
  },
  {
   "cell_type": "code",
   "execution_count": 60,
   "id": "b71b1291",
   "metadata": {},
   "outputs": [
    {
     "data": {
      "text/plain": [
       "2"
      ]
     },
     "execution_count": 60,
     "metadata": {},
     "output_type": "execute_result"
    }
   ],
   "source": [
    "arbol.hijos[1].raiz.valor"
   ]
  },
  {
   "cell_type": "code",
   "execution_count": 61,
   "id": "c6816304",
   "metadata": {},
   "outputs": [
    {
     "data": {
      "text/plain": [
       "3"
      ]
     },
     "execution_count": 61,
     "metadata": {},
     "output_type": "execute_result"
    }
   ],
   "source": [
    "arbol.hijos[2].raiz.valor"
   ]
  },
  {
   "cell_type": "code",
   "execution_count": 62,
   "id": "3f7c6e81",
   "metadata": {},
   "outputs": [
    {
     "name": "stdout",
     "output_type": "stream",
     "text": [
      "0\n",
      "     1\n",
      "     2\n",
      "     3\n"
     ]
    }
   ],
   "source": [
    "arbol.imprimirArbol()"
   ]
  },
  {
   "cell_type": "code",
   "execution_count": 65,
   "id": "a70ecb13",
   "metadata": {},
   "outputs": [
    {
     "data": {
      "text/plain": [
       "[1, 2, 3]"
      ]
     },
     "execution_count": 65,
     "metadata": {},
     "output_type": "execute_result"
    }
   ],
   "source": [
    "arbol.verHijos()"
   ]
  },
  {
   "cell_type": "code",
   "execution_count": 74,
   "id": "2c87aeed",
   "metadata": {},
   "outputs": [],
   "source": [
    "arbol_hijo_1 = arbol.hijos[0]"
   ]
  },
  {
   "cell_type": "code",
   "execution_count": 77,
   "id": "bffc9f25",
   "metadata": {},
   "outputs": [],
   "source": [
    "arbol_hijo_1.insertarNodo(10)"
   ]
  },
  {
   "cell_type": "code",
   "execution_count": 79,
   "id": "823c694e",
   "metadata": {},
   "outputs": [
    {
     "data": {
      "text/plain": [
       "1"
      ]
     },
     "execution_count": 79,
     "metadata": {},
     "output_type": "execute_result"
    }
   ],
   "source": [
    "arbol_hijo_1.raiz.valor"
   ]
  },
  {
   "cell_type": "code",
   "execution_count": 83,
   "id": "c9ccab4f",
   "metadata": {},
   "outputs": [
    {
     "data": {
      "text/plain": [
       "10"
      ]
     },
     "execution_count": 83,
     "metadata": {},
     "output_type": "execute_result"
    }
   ],
   "source": [
    "arbol_hijo_1.hijos[0].raiz.valor"
   ]
  },
  {
   "cell_type": "code",
   "execution_count": 84,
   "id": "30f67c28",
   "metadata": {},
   "outputs": [],
   "source": [
    "arbol_hijo_2 = arbol.hijos[1]"
   ]
  },
  {
   "cell_type": "code",
   "execution_count": 85,
   "id": "c60ead8f",
   "metadata": {},
   "outputs": [],
   "source": [
    "arbol_hijo_2.insertarNodo(20)"
   ]
  },
  {
   "cell_type": "code",
   "execution_count": 86,
   "id": "8b5bbc58",
   "metadata": {},
   "outputs": [],
   "source": [
    "arbol_hijo_3 = arbol.hijos[2]"
   ]
  },
  {
   "cell_type": "code",
   "execution_count": 87,
   "id": "18c8ed11",
   "metadata": {},
   "outputs": [],
   "source": [
    "arbol_hijo_3.insertarNodo(30)"
   ]
  },
  {
   "cell_type": "code",
   "execution_count": 89,
   "id": "3104c24b",
   "metadata": {},
   "outputs": [
    {
     "name": "stdout",
     "output_type": "stream",
     "text": [
      "0\n",
      "     1\n",
      "          10\n",
      "     2\n",
      "          20\n",
      "     3\n",
      "          30\n"
     ]
    }
   ],
   "source": [
    "arbol.imprimirArbol()"
   ]
  },
  {
   "cell_type": "code",
   "execution_count": 94,
   "id": "3a2bba7a",
   "metadata": {},
   "outputs": [],
   "source": [
    "arbol_hijo_1.insertarNodo(11)"
   ]
  },
  {
   "cell_type": "code",
   "execution_count": 95,
   "id": "c53f1407",
   "metadata": {},
   "outputs": [],
   "source": [
    "arbol_hijo_1.insertarNodo(12)"
   ]
  },
  {
   "cell_type": "code",
   "execution_count": 96,
   "id": "a6c87a3e",
   "metadata": {},
   "outputs": [],
   "source": [
    "arbol_hijo_1.insertarNodo(13)"
   ]
  },
  {
   "cell_type": "code",
   "execution_count": 97,
   "id": "16d5802b",
   "metadata": {},
   "outputs": [
    {
     "name": "stdout",
     "output_type": "stream",
     "text": [
      "0\n",
      "     1\n",
      "          10\n",
      "          11\n",
      "          12\n",
      "          13\n",
      "          11\n",
      "          12\n",
      "          13\n",
      "     2\n",
      "          20\n",
      "     3\n",
      "          30\n"
     ]
    }
   ],
   "source": [
    "arbol.imprimirArbol()"
   ]
  },
  {
   "cell_type": "code",
   "execution_count": null,
   "id": "8f5f395c",
   "metadata": {},
   "outputs": [],
   "source": []
  },
  {
   "cell_type": "markdown",
   "id": "69ec66af",
   "metadata": {},
   "source": [
    "### Árbol binario\n",
    "\n",
    "Este es un árbol particular que tiene como característica que la cantidad máxima de hijos que puede tener un nodo está restringida a dos."
   ]
  },
  {
   "cell_type": "markdown",
   "id": "7b0c106e",
   "metadata": {},
   "source": [
    "Un árbol de este estilo puede estar **balanceado** o no"
   ]
  },
  {
   "cell_type": "code",
   "execution_count": 99,
   "id": "47cbe384",
   "metadata": {},
   "outputs": [],
   "source": [
    "class ArbolBinario(Arbol):\n",
    "    def insertarNodo(self, dato):\n",
    "        nodo = Nodo(dato)\n",
    "        if self.raiz == None:\n",
    "            self.raiz = nodo\n",
    "        elif len(self.hijos) < 2:\n",
    "            nodo_hijo = ArbolBinario()\n",
    "            nodo_hijo.raiz = nodo\n",
    "            self.hijos.append(nodo_hijo)\n",
    "        else:\n",
    "            print('No pueden insertarse más nodos en este nivel')\n",
    "        return None"
   ]
  },
  {
   "cell_type": "code",
   "execution_count": 100,
   "id": "d789eee0",
   "metadata": {},
   "outputs": [],
   "source": [
    "binario = ArbolBinario()"
   ]
  },
  {
   "cell_type": "code",
   "execution_count": 102,
   "id": "f6125905",
   "metadata": {},
   "outputs": [
    {
     "name": "stdout",
     "output_type": "stream",
     "text": [
      "None\n"
     ]
    }
   ],
   "source": [
    "print(binario.raiz)"
   ]
  },
  {
   "cell_type": "code",
   "execution_count": 103,
   "id": "6ba458cd",
   "metadata": {},
   "outputs": [
    {
     "data": {
      "text/plain": [
       "[]"
      ]
     },
     "execution_count": 103,
     "metadata": {},
     "output_type": "execute_result"
    }
   ],
   "source": [
    "binario.hijos"
   ]
  },
  {
   "cell_type": "code",
   "execution_count": 104,
   "id": "e19e19c8",
   "metadata": {},
   "outputs": [],
   "source": [
    "binario.insertarNodo(100)"
   ]
  },
  {
   "cell_type": "code",
   "execution_count": 106,
   "id": "a2cb2a7a",
   "metadata": {},
   "outputs": [
    {
     "data": {
      "text/plain": [
       "100"
      ]
     },
     "execution_count": 106,
     "metadata": {},
     "output_type": "execute_result"
    }
   ],
   "source": [
    "binario.raiz.valor"
   ]
  },
  {
   "cell_type": "code",
   "execution_count": 107,
   "id": "50283144",
   "metadata": {},
   "outputs": [
    {
     "data": {
      "text/plain": [
       "[]"
      ]
     },
     "execution_count": 107,
     "metadata": {},
     "output_type": "execute_result"
    }
   ],
   "source": [
    "binario.hijos"
   ]
  },
  {
   "cell_type": "code",
   "execution_count": 108,
   "id": "23381acc",
   "metadata": {},
   "outputs": [],
   "source": [
    "binario.insertarNodo(1000)"
   ]
  },
  {
   "cell_type": "code",
   "execution_count": 109,
   "id": "247e910c",
   "metadata": {},
   "outputs": [
    {
     "data": {
      "text/plain": [
       "100"
      ]
     },
     "execution_count": 109,
     "metadata": {},
     "output_type": "execute_result"
    }
   ],
   "source": [
    "binario.raiz.valor"
   ]
  },
  {
   "cell_type": "code",
   "execution_count": 111,
   "id": "ac2d7c7e",
   "metadata": {},
   "outputs": [
    {
     "data": {
      "text/plain": [
       "1000"
      ]
     },
     "execution_count": 111,
     "metadata": {},
     "output_type": "execute_result"
    }
   ],
   "source": [
    "binario.hijos[0].raiz.valor"
   ]
  },
  {
   "cell_type": "code",
   "execution_count": 112,
   "id": "946b55e3",
   "metadata": {},
   "outputs": [],
   "source": [
    "binario.insertarNodo(2000)"
   ]
  },
  {
   "cell_type": "code",
   "execution_count": 113,
   "id": "bd3c8bf3",
   "metadata": {},
   "outputs": [
    {
     "data": {
      "text/plain": [
       "2000"
      ]
     },
     "execution_count": 113,
     "metadata": {},
     "output_type": "execute_result"
    }
   ],
   "source": [
    "binario.hijos[1].raiz.valor"
   ]
  },
  {
   "cell_type": "code",
   "execution_count": 114,
   "id": "ca417388",
   "metadata": {},
   "outputs": [
    {
     "name": "stdout",
     "output_type": "stream",
     "text": [
      "No pueden insertarse más nodos en este nivel\n"
     ]
    }
   ],
   "source": [
    "binario.insertarNodo(3000)"
   ]
  },
  {
   "cell_type": "code",
   "execution_count": 118,
   "id": "35ec5026",
   "metadata": {},
   "outputs": [],
   "source": [
    "binario.hijos[0].insertarNodo(10000)"
   ]
  },
  {
   "cell_type": "code",
   "execution_count": 119,
   "id": "54cd47fd",
   "metadata": {},
   "outputs": [],
   "source": [
    "binario.hijos[0].insertarNodo(20000)"
   ]
  },
  {
   "cell_type": "code",
   "execution_count": 120,
   "id": "506a366d",
   "metadata": {},
   "outputs": [
    {
     "name": "stdout",
     "output_type": "stream",
     "text": [
      "No pueden insertarse más nodos en este nivel\n"
     ]
    }
   ],
   "source": [
    "binario.hijos[0].insertarNodo(30000)"
   ]
  },
  {
   "cell_type": "code",
   "execution_count": 123,
   "id": "62e315fe",
   "metadata": {},
   "outputs": [
    {
     "data": {
      "text/plain": [
       "10000"
      ]
     },
     "execution_count": 123,
     "metadata": {},
     "output_type": "execute_result"
    }
   ],
   "source": [
    "binario.hijos[0].hijos[0].raiz.valor"
   ]
  },
  {
   "cell_type": "code",
   "execution_count": 124,
   "id": "88f6fbfd",
   "metadata": {},
   "outputs": [
    {
     "data": {
      "text/plain": [
       "20000"
      ]
     },
     "execution_count": 124,
     "metadata": {},
     "output_type": "execute_result"
    }
   ],
   "source": [
    "binario.hijos[0].hijos[1].raiz.valor"
   ]
  },
  {
   "cell_type": "code",
   "execution_count": 125,
   "id": "a61fc9f3",
   "metadata": {},
   "outputs": [],
   "source": [
    "binario.hijos[1].insertarNodo(30000)"
   ]
  },
  {
   "cell_type": "code",
   "execution_count": 126,
   "id": "0b1b39f9",
   "metadata": {},
   "outputs": [],
   "source": [
    "binario.hijos[1].insertarNodo(40000)"
   ]
  },
  {
   "cell_type": "code",
   "execution_count": 127,
   "id": "95a3f729",
   "metadata": {},
   "outputs": [
    {
     "name": "stdout",
     "output_type": "stream",
     "text": [
      "No pueden insertarse más nodos en este nivel\n"
     ]
    }
   ],
   "source": [
    "binario.hijos[1].insertarNodo(50000)"
   ]
  },
  {
   "cell_type": "code",
   "execution_count": 129,
   "id": "2cca12c4",
   "metadata": {},
   "outputs": [
    {
     "data": {
      "text/plain": [
       "2000"
      ]
     },
     "execution_count": 129,
     "metadata": {},
     "output_type": "execute_result"
    }
   ],
   "source": [
    "binario.hijos[1].raiz.valor"
   ]
  },
  {
   "cell_type": "code",
   "execution_count": 132,
   "id": "717b4006",
   "metadata": {},
   "outputs": [
    {
     "data": {
      "text/plain": [
       "30000"
      ]
     },
     "execution_count": 132,
     "metadata": {},
     "output_type": "execute_result"
    }
   ],
   "source": [
    "binario.hijos[1].hijos[0].raiz.valor"
   ]
  },
  {
   "cell_type": "code",
   "execution_count": 133,
   "id": "7a754796",
   "metadata": {},
   "outputs": [
    {
     "data": {
      "text/plain": [
       "40000"
      ]
     },
     "execution_count": 133,
     "metadata": {},
     "output_type": "execute_result"
    }
   ],
   "source": [
    "binario.hijos[1].hijos[1].raiz.valor"
   ]
  },
  {
   "cell_type": "code",
   "execution_count": null,
   "id": "02d4c7d6",
   "metadata": {},
   "outputs": [],
   "source": []
  }
 ],
 "metadata": {
  "kernelspec": {
   "display_name": "Python 3 (ipykernel)",
   "language": "python",
   "name": "python3"
  },
  "language_info": {
   "codemirror_mode": {
    "name": "ipython",
    "version": 3
   },
   "file_extension": ".py",
   "mimetype": "text/x-python",
   "name": "python",
   "nbconvert_exporter": "python",
   "pygments_lexer": "ipython3",
   "version": "3.9.15"
  },
  "vscode": {
   "interpreter": {
    "hash": "24db0e425a899b595982fbe2dea540dfaa86d21b0466e3b13bf2e3dc218744e1"
   }
  }
 },
 "nbformat": 4,
 "nbformat_minor": 5
}
