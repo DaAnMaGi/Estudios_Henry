{
 "cells": [
  {
   "cell_type": "markdown",
   "metadata": {},
   "source": [
    "# Estructura de Datos"
   ]
  },
  {
   "cell_type": "markdown",
   "metadata": {},
   "source": [
    "Listas enlazadas"
   ]
  },
  {
   "cell_type": "code",
   "execution_count": 2,
   "metadata": {},
   "outputs": [],
   "source": [
    "class Nodo:\n",
    "    def __init__(self,val):\n",
    "        self.data = val\n",
    "        self.next = None\n",
    "\n",
    "    def getData(self):\n",
    "        return self.data\n",
    "    \n",
    "    def getNext(self):\n",
    "        return self.next\n",
    "    \n",
    "    def setData(self, val):\n",
    "        self.data = val\n",
    "\n",
    "    def setNext(self,val):\n",
    "        self.next = val"
   ]
  },
  {
   "cell_type": "code",
   "execution_count": 3,
   "metadata": {},
   "outputs": [],
   "source": [
    "nodo = Nodo(10)"
   ]
  },
  {
   "cell_type": "code",
   "execution_count": 8,
   "metadata": {},
   "outputs": [],
   "source": [
    "class LinkedList:\n",
    "    def __init__(self):\n",
    "        self.head = None\n",
    "        pass\n",
    "\n",
    "    def agregar(self,item):\n",
    "        nuevo_nodo = Nodo(item)\n",
    "        nuevo_nodo.setNext(self.head)\n",
    "        self.head = nuevo_nodo\n",
    "\n",
    "    def eliminar(self,item): #Tarea\n",
    "        ''' Elimina el elemento ítem de la lista.\n",
    "        Si el ítem no está en la lista devuelve un error de tipo ValueError:\n",
    "        \n",
    "        raise ValueError\n",
    "        print(\"El dato o está en la lista\")\n",
    "        '''\n",
    "        pass\n",
    "\n",
    "    def buscar(self,item):\n",
    "        '''Busca el elemento item en la lista. \n",
    "        Si lo encuentra retorna true, si no, false'''\n",
    "        pass\n",
    "\n",
    "    def size(self):\n",
    "        '''Devuelve el tamaño de la lista'''\n",
    "        pass\n",
    "\n",
    "    def imprimir_lista(self):\n",
    "        '''Imprimir todos los elementos de la lista'''"
   ]
  },
  {
   "cell_type": "code",
   "execution_count": 5,
   "metadata": {},
   "outputs": [],
   "source": [
    "a = 58\n",
    "b = 68\n",
    "d = 38"
   ]
  },
  {
   "cell_type": "code",
   "execution_count": 9,
   "metadata": {},
   "outputs": [],
   "source": [
    "z = LinkedList()\n",
    "z.agregar(a)\n",
    "z.agregar(b)\n",
    "z.agregar(d)"
   ]
  },
  {
   "cell_type": "code",
   "execution_count": 14,
   "metadata": {},
   "outputs": [
    {
     "data": {
      "text/plain": [
       "68"
      ]
     },
     "execution_count": 14,
     "metadata": {},
     "output_type": "execute_result"
    }
   ],
   "source": [
    "z.head.next.data"
   ]
  },
  {
   "cell_type": "code",
   "execution_count": 15,
   "metadata": {},
   "outputs": [
    {
     "data": {
      "text/plain": [
       "38"
      ]
     },
     "execution_count": 15,
     "metadata": {},
     "output_type": "execute_result"
    }
   ],
   "source": [
    "z.head.data"
   ]
  },
  {
   "cell_type": "code",
   "execution_count": 16,
   "metadata": {},
   "outputs": [
    {
     "data": {
      "text/plain": [
       "58"
      ]
     },
     "execution_count": 16,
     "metadata": {},
     "output_type": "execute_result"
    }
   ],
   "source": [
    "z.head.next.next.data"
   ]
  },
  {
   "cell_type": "markdown",
   "metadata": {},
   "source": [
    "Tablas Hash"
   ]
  },
  {
   "cell_type": "code",
   "execution_count": 17,
   "metadata": {},
   "outputs": [
    {
     "data": {
      "text/plain": [
       "1012267946832851358"
      ]
     },
     "execution_count": 17,
     "metadata": {},
     "output_type": "execute_result"
    }
   ],
   "source": [
    "hash(\"Equis\") #Devuelve un numero para un texto."
   ]
  },
  {
   "cell_type": "code",
   "execution_count": 27,
   "metadata": {},
   "outputs": [],
   "source": [
    "class TablaHash:\n",
    "    def __init__(self,capacidad):\n",
    "        self.tamano = capacidad\n",
    "        self.tabla = [None]*self.tamano\n",
    "        return None\n",
    "    \n",
    "    def funcion_hash(self,clave):\n",
    "        '''\n",
    "        Devuelve un número que correspode a \n",
    "        la posición de la lista en la que voy a guardar el dato\n",
    "        '''\n",
    "        return hash(clave) % self.tamano\n",
    "    \n",
    "    def agregar(self,clave,valor):\n",
    "        # Calculo la posición en la que voy a guardar el dato.\n",
    "\n",
    "        indice = self.funcion_hash(clave)\n",
    "\n",
    "        if self.tabla[indice] is None:\n",
    "            self.tabla[indice] = []\n",
    "        for par in self.tabla[indice]:\n",
    "            if par[0] == clave:\n",
    "                par[1] = valor\n",
    "                break\n",
    "        else:\n",
    "            self.tabla[indice].append((clave,valor))\n",
    "\n",
    "    def obtener(self,clave):\n",
    "        indice = self.funcion_hash(clave)\n",
    "        if self.tabla[indice] is not None:\n",
    "            for par in self.tabla[indice]:\n",
    "                if par[0] == clave:\n",
    "                    return par[1]\n",
    "        raise KeyError(clave)"
   ]
  },
  {
   "cell_type": "code",
   "execution_count": 28,
   "metadata": {},
   "outputs": [],
   "source": [
    "tabla = TablaHash(5)"
   ]
  },
  {
   "cell_type": "code",
   "execution_count": 29,
   "metadata": {},
   "outputs": [
    {
     "data": {
      "text/plain": [
       "[None, None, None, None, None]"
      ]
     },
     "execution_count": 29,
     "metadata": {},
     "output_type": "execute_result"
    }
   ],
   "source": [
    "tabla.tabla"
   ]
  },
  {
   "cell_type": "code",
   "execution_count": 30,
   "metadata": {},
   "outputs": [
    {
     "data": {
      "text/plain": [
       "5"
      ]
     },
     "execution_count": 30,
     "metadata": {},
     "output_type": "execute_result"
    }
   ],
   "source": [
    "tabla.tamano"
   ]
  },
  {
   "cell_type": "code",
   "execution_count": 31,
   "metadata": {},
   "outputs": [],
   "source": [
    "tabla.agregar(\"dirección\",\"Rivadavia 123\")"
   ]
  },
  {
   "cell_type": "code",
   "execution_count": 32,
   "metadata": {},
   "outputs": [
    {
     "data": {
      "text/plain": [
       "[None, None, None, [('dirección', 'Rivadavia 123')], None]"
      ]
     },
     "execution_count": 32,
     "metadata": {},
     "output_type": "execute_result"
    }
   ],
   "source": [
    "tabla.tabla"
   ]
  }
 ],
 "metadata": {
  "kernelspec": {
   "display_name": "Python 3",
   "language": "python",
   "name": "python3"
  },
  "language_info": {
   "codemirror_mode": {
    "name": "ipython",
    "version": 3
   },
   "file_extension": ".py",
   "mimetype": "text/x-python",
   "name": "python",
   "nbconvert_exporter": "python",
   "pygments_lexer": "ipython3",
   "version": "3.11.4"
  },
  "orig_nbformat": 4
 },
 "nbformat": 4,
 "nbformat_minor": 2
}
