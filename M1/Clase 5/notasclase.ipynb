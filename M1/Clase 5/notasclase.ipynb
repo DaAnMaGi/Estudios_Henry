{
 "cells": [
  {
   "cell_type": "markdown",
   "metadata": {},
   "source": [
    "Estructura de datos - pilas y colas"
   ]
  },
  {
   "cell_type": "markdown",
   "metadata": {},
   "source": [
    "# Pilas"
   ]
  },
  {
   "cell_type": "code",
   "execution_count": 1,
   "metadata": {},
   "outputs": [],
   "source": [
    "import numpy as np\n",
    "import random\n",
    "import time"
   ]
  },
  {
   "cell_type": "code",
   "execution_count": 5,
   "metadata": {},
   "outputs": [],
   "source": [
    "class Pila:\n",
    "    def __init__(self):\n",
    "        self.items = []\n",
    "        return None\n",
    "    \n",
    "    def agregar(self,item):\n",
    "        self.items.append(item)\n",
    "        return None\n",
    "    \n",
    "    def eliminar(self):\n",
    "        return self.items.pop()\n",
    "    \n",
    "    def esta_vacia(self):\n",
    "        return self.items == []\n",
    "    \n",
    "    def size(self):\n",
    "        return len(self.items)"
   ]
  },
  {
   "cell_type": "code",
   "execution_count": 6,
   "metadata": {},
   "outputs": [],
   "source": [
    "pila = Pila()"
   ]
  },
  {
   "cell_type": "code",
   "execution_count": 7,
   "metadata": {},
   "outputs": [
    {
     "data": {
      "text/plain": [
       "<__main__.Pila at 0x1a9fc4ed510>"
      ]
     },
     "execution_count": 7,
     "metadata": {},
     "output_type": "execute_result"
    }
   ],
   "source": [
    "pila"
   ]
  },
  {
   "cell_type": "code",
   "execution_count": 8,
   "metadata": {},
   "outputs": [
    {
     "data": {
      "text/plain": [
       "[]"
      ]
     },
     "execution_count": 8,
     "metadata": {},
     "output_type": "execute_result"
    }
   ],
   "source": [
    "pila.items"
   ]
  },
  {
   "cell_type": "code",
   "execution_count": 9,
   "metadata": {},
   "outputs": [],
   "source": [
    "pila.agregar(10)"
   ]
  },
  {
   "cell_type": "code",
   "execution_count": 10,
   "metadata": {},
   "outputs": [
    {
     "data": {
      "text/plain": [
       "[10]"
      ]
     },
     "execution_count": 10,
     "metadata": {},
     "output_type": "execute_result"
    }
   ],
   "source": [
    "pila.items"
   ]
  },
  {
   "cell_type": "code",
   "execution_count": 15,
   "metadata": {},
   "outputs": [
    {
     "data": {
      "text/plain": [
       "10"
      ]
     },
     "execution_count": 15,
     "metadata": {},
     "output_type": "execute_result"
    }
   ],
   "source": [
    "pila.eliminar()"
   ]
  },
  {
   "cell_type": "code",
   "execution_count": 16,
   "metadata": {},
   "outputs": [
    {
     "data": {
      "text/plain": [
       "[]"
      ]
     },
     "execution_count": 16,
     "metadata": {},
     "output_type": "execute_result"
    }
   ],
   "source": [
    "pila.items"
   ]
  },
  {
   "cell_type": "code",
   "execution_count": 23,
   "metadata": {},
   "outputs": [],
   "source": [
    "for i in range(10,100,12):\n",
    "    pila.agregar(i)"
   ]
  },
  {
   "cell_type": "code",
   "execution_count": 18,
   "metadata": {},
   "outputs": [
    {
     "data": {
      "text/plain": [
       "[10, 22, 34, 46, 58, 70, 82, 94]"
      ]
     },
     "execution_count": 18,
     "metadata": {},
     "output_type": "execute_result"
    }
   ],
   "source": [
    "pila.items"
   ]
  },
  {
   "cell_type": "code",
   "execution_count": 24,
   "metadata": {},
   "outputs": [
    {
     "name": "stdout",
     "output_type": "stream",
     "text": [
      "[10, 22, 34, 46, 58, 70, 82, 94]\n",
      "94\n",
      "[10, 22, 34, 46, 58, 70, 82]\n",
      "82\n",
      "[10, 22, 34, 46, 58, 70]\n",
      "70\n",
      "[10, 22, 34, 46, 58]\n",
      "58\n",
      "[10, 22, 34, 46]\n",
      "46\n",
      "[10, 22, 34]\n",
      "34\n",
      "[10, 22]\n",
      "22\n",
      "[10]\n",
      "10\n"
     ]
    }
   ],
   "source": [
    "for i in pila.items[::-1]: # Es importante que lo recorra hacia atrás, porque los elementos del final se van elimando, y cuando llega a ellos, no quedan elementos. Otra manera de dar la instrucción es \"for i in range(len(pila.items)):\"\n",
    "    print(pila.items)\n",
    "    print(pila.eliminar())\n",
    "    time.sleep(1) # Sirve para hacer \"Dormir al código\" durante el tiempo definido."
   ]
  },
  {
   "cell_type": "markdown",
   "metadata": {},
   "source": [
    "# Colas"
   ]
  },
  {
   "cell_type": "code",
   "execution_count": 38,
   "metadata": {},
   "outputs": [],
   "source": [
    "# Dos maneras de \"generar\" una cola\n",
    "class Cola:\n",
    "    def __init__(self):\n",
    "        self.items = []\n",
    "        return None\n",
    "    def agregar(self,item):\n",
    "        self.items.insert(0,item) #enqueue\n",
    "        return None\n",
    "    \n",
    "    def eliminar(self):\n",
    "        return self.items.pop()\n",
    "    \n",
    "class Cola_2:\n",
    "    def __init__(self):\n",
    "        self.items = []\n",
    "        return None\n",
    "    def agregar(self,item):\n",
    "        self.items.append(item) #enqueue\n",
    "        return None\n",
    "    \n",
    "    def eliminar(self):\n",
    "        return self.items.pop(0)"
   ]
  },
  {
   "cell_type": "code",
   "execution_count": 43,
   "metadata": {},
   "outputs": [],
   "source": [
    "cola = Cola()"
   ]
  },
  {
   "cell_type": "code",
   "execution_count": 44,
   "metadata": {},
   "outputs": [
    {
     "data": {
      "text/plain": [
       "[]"
      ]
     },
     "execution_count": 44,
     "metadata": {},
     "output_type": "execute_result"
    }
   ],
   "source": [
    "cola.items"
   ]
  },
  {
   "cell_type": "code",
   "execution_count": 45,
   "metadata": {},
   "outputs": [],
   "source": [
    "cola.agregar(10)"
   ]
  },
  {
   "cell_type": "code",
   "execution_count": 46,
   "metadata": {},
   "outputs": [
    {
     "data": {
      "text/plain": [
       "[10]"
      ]
     },
     "execution_count": 46,
     "metadata": {},
     "output_type": "execute_result"
    }
   ],
   "source": [
    "cola.items"
   ]
  },
  {
   "cell_type": "code",
   "execution_count": 47,
   "metadata": {},
   "outputs": [
    {
     "data": {
      "text/plain": [
       "[]"
      ]
     },
     "execution_count": 47,
     "metadata": {},
     "output_type": "execute_result"
    }
   ],
   "source": [
    "cola.eliminar()\n",
    "cola.items"
   ]
  },
  {
   "cell_type": "code",
   "execution_count": 53,
   "metadata": {},
   "outputs": [
    {
     "data": {
      "text/plain": [
       "[94, 82, 70, 58, 46, 34, 22, 10]"
      ]
     },
     "execution_count": 53,
     "metadata": {},
     "output_type": "execute_result"
    }
   ],
   "source": [
    "for i in range(10,100,12):\n",
    "    cola.agregar(i)\n",
    "\n",
    "cola.items"
   ]
  },
  {
   "cell_type": "code",
   "execution_count": 54,
   "metadata": {},
   "outputs": [
    {
     "name": "stdout",
     "output_type": "stream",
     "text": [
      "[94, 82, 70, 58, 46, 34, 22, 10]\n",
      "10\n",
      "[94, 82, 70, 58, 46, 34, 22]\n",
      "22\n",
      "[94, 82, 70, 58, 46, 34]\n",
      "34\n",
      "[94, 82, 70, 58, 46]\n",
      "46\n",
      "[94, 82, 70, 58]\n",
      "58\n",
      "[94, 82, 70]\n",
      "70\n",
      "[94, 82]\n",
      "82\n",
      "[94]\n",
      "94\n"
     ]
    }
   ],
   "source": [
    "for i in range(len(cola.items)):\n",
    "    print(cola.items)\n",
    "    print(cola.eliminar())\n",
    "    time.sleep(1)\n"
   ]
  },
  {
   "cell_type": "markdown",
   "metadata": {},
   "source": [
    "Ejemplo de aplicación de una pila"
   ]
  },
  {
   "cell_type": "code",
   "execution_count": 55,
   "metadata": {},
   "outputs": [],
   "source": [
    "def invertir_cadena(cadena):\n",
    "    pila = Pila() # Se crea el objeto de la clase.\n",
    "\n",
    "    for character in cadena: \n",
    "        pila.agregar(character) # Se agrega cada uno de los caracteres al objeto de la clase.\n",
    "\n",
    "    cadena_invertida = \"\"\n",
    "\n",
    "    while pila.items:\n",
    "        cadena_invertida += pila.eliminar() # Se agregan los elementos al reves al resultado.\n",
    "\n",
    "    return cadena_invertida"
   ]
  },
  {
   "cell_type": "code",
   "execution_count": 56,
   "metadata": {},
   "outputs": [
    {
     "data": {
      "text/plain": [
       "'nóicaro atse ritrevni a yoV'"
      ]
     },
     "execution_count": 56,
     "metadata": {},
     "output_type": "execute_result"
    }
   ],
   "source": [
    "invertir_cadena(\"Voy a invertir esta oración\")"
   ]
  },
  {
   "cell_type": "markdown",
   "metadata": {},
   "source": [
    "# Ejemplo de aplicación de una cola."
   ]
  },
  {
   "cell_type": "code",
   "execution_count": 80,
   "metadata": {},
   "outputs": [],
   "source": [
    "lista_1 = [1,3,5]\n",
    "lista_2 = [2,4,6]"
   ]
  },
  {
   "cell_type": "markdown",
   "metadata": {},
   "source": [
    "Queremos generar una nueva lista con los elementos de la lista 1 y de la lista 2:"
   ]
  },
  {
   "cell_type": "code",
   "execution_count": 78,
   "metadata": {},
   "outputs": [],
   "source": [
    "def intercalar(l1,l2):\n",
    "    resultado = Cola()\n",
    "\n",
    "    while l1 and l2:\n",
    "        resultado.agregar(l2.pop())\n",
    "        resultado.agregar(l1.pop())\n",
    "    \n",
    "    return resultado.items"
   ]
  },
  {
   "cell_type": "code",
   "execution_count": 81,
   "metadata": {},
   "outputs": [
    {
     "data": {
      "text/plain": [
       "[1, 2, 3, 4, 5, 6]"
      ]
     },
     "execution_count": 81,
     "metadata": {},
     "output_type": "execute_result"
    }
   ],
   "source": [
    "intercalar(lista_1,lista_2)"
   ]
  }
 ],
 "metadata": {
  "kernelspec": {
   "display_name": "Python 3",
   "language": "python",
   "name": "python3"
  },
  "language_info": {
   "codemirror_mode": {
    "name": "ipython",
    "version": 3
   },
   "file_extension": ".py",
   "mimetype": "text/x-python",
   "name": "python",
   "nbconvert_exporter": "python",
   "pygments_lexer": "ipython3",
   "version": "3.11.4"
  },
  "orig_nbformat": 4
 },
 "nbformat": 4,
 "nbformat_minor": 2
}
