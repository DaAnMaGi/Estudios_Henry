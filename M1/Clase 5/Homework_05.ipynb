{
 "cells": [
  {
   "cell_type": "markdown",
   "metadata": {},
   "source": [
    "# Práctica Clase 5"
   ]
  },
  {
   "cell_type": "markdown",
   "metadata": {},
   "source": [
    "1) Implementar un juego, que consista en apilar números enteros del 1 al 20, de forma aleatoria, para lo cual debe usarse una estructura de Pila. \n",
    "Luego, el usuario debe elegir un número de veces en que se va a quitar elementos de la pila, los cuales, sumados entre sí, no deben superar el valor de 50.\n",
    "El usuario pierde si la suma supera ese valor. Si no lo supera, gana, pero su calificación será 10 menos el número elementos que falten quitar para todavía no superar 50.\n",
    "El programa debe informar si perdió, y si ganó, con qué calificación lo hizo.\n",
    "\n",
    "Consideraciones:<br>\n",
    "a. Se puede usar la función input() para obtener una entrada de teclado.<br>\n",
    "b. Se puede usar la el modulo random para obtener valores aleatorios."
   ]
  },
  {
   "cell_type": "code",
   "execution_count": 1,
   "metadata": {},
   "outputs": [],
   "source": [
    "import random"
   ]
  },
  {
   "cell_type": "code",
   "execution_count": 38,
   "metadata": {},
   "outputs": [],
   "source": [
    "def juego(sec):\n",
    "    lista = [] #se genera la variable \n",
    "    resultado = []\n",
    "\n",
    "    for e in range(10): # Se obtiene la lista de números al azar entre el 1 y el 20.\n",
    "        lista.append(random.randint(1,20))\n",
    "\n",
    "    while sec: # Se empiezan a agregar los elementos de la pila para obtener el resultado.\n",
    "        resultado.append(lista.pop())\n",
    "        sec -= 1\n",
    "\n",
    "    puntos = 10 # creamos la variable de los puntos.\n",
    "    \n",
    "    if sum(resultado) >= 50: #resultado en caso de que se pierda.\n",
    "        return print(f\"Pierdes, la sumatoria da {sum(resultado)}\")\n",
    "    else: # resultado en caso de ganar.\n",
    "        x = sum(resultado) # Guardamos la variable del resultado original.\n",
    "        while sum(resultado) < 50: # Y obtenemos el puntaje.\n",
    "            resultado.append(lista.pop())\n",
    "            puntos -= 1 # se le resta un punto cada vez que se realice el ciclo (falte un elemento para llegar a 50).\n",
    "\n",
    "    return print(f\"¡Ganaste! La sumatoria da {x}, obtienes {puntos} puntos\")\n"
   ]
  },
  {
   "cell_type": "code",
   "execution_count": 63,
   "metadata": {},
   "outputs": [
    {
     "name": "stdout",
     "output_type": "stream",
     "text": [
      "¡Ganaste! La sumatoria da 41, obtienes 9 puntos\n"
     ]
    }
   ],
   "source": [
    "x = int(input(\"Indica un número entre 3 y 6\"))\n",
    "juego(x)"
   ]
  },
  {
   "cell_type": "markdown",
   "metadata": {},
   "source": [
    "2) Implementar un juego donde constas de 2 jarras, de capacidad 5 y 3 litros respectivamente, y debes colocar 4 litros en la jarra de 5L.\n",
    "Las opciones posibles son:\n",
    "* Llenar la jarra de 3 litros\n",
    "* Llenar la jarra de 5 litros\n",
    "* Vaciar la jarra de 3 litros\n",
    "* Vaciar la jarra de 5 litros\n",
    "* Verter el contenido de la jarra de 3 litros en la de 5 litros\n",
    "* Verter el contenido de la jarra de 5 litros en la de 3 litros"
   ]
  },
  {
   "cell_type": "code",
   "execution_count": 56,
   "metadata": {},
   "outputs": [],
   "source": [
    "# Se crea la jarra\n",
    "# Se crea función para llenar\n",
    "# Se crea función para vaciar\n",
    "# Consultar\n",
    "# Verter (se vierte de a un litro)"
   ]
  },
  {
   "cell_type": "code",
   "execution_count": 74,
   "metadata": {},
   "outputs": [],
   "source": [
    "class JuegoJarras:\n",
    "    def __init__(self):\n",
    "        self.jarra_3 = 0\n",
    "        self.jarra_5 = 0\n",
    "    \n",
    "    def llenar(self,jarra):\n",
    "        if jarra == 3:\n",
    "            if self.jarra_3 != 0:\n",
    "                print(\"¡La jarra 3lts se encuentra llena!\")\n",
    "            else: \n",
    "                self.jarra_3 = 3\n",
    "                print(\"Se ha llenado la jarra 3lts\")\n",
    "        elif jarra == 5:\n",
    "            if self.jarra_5 != 0:\n",
    "                print(\"¡La jarra 5lts ya está llena!\")\n",
    "            else: \n",
    "                self.jarra_5 = 5\n",
    "                print(\"Se ha llenado la jara 5lts\")\n",
    "        else: print(\"Por favor indique 3 o 5 para la jarra a llenar\")\n",
    "    \n",
    "    def vaciar(self,jarra):\n",
    "        if jarra == 3:\n",
    "            if self.jarra_3 == 0: \n",
    "                print(\"La jarra 3lts ya está vacía\")\n",
    "            else:\n",
    "                self.jarra_3 = 0\n",
    "                print(\"Se ha vaciado la jarra 3lts\")\n",
    "        elif jarra == 5:\n",
    "            if self.jarra_5 == 0:\n",
    "                print(\"Ya se encuentra vacía la jarra 5 lts\")\n",
    "            else: \n",
    "                self.jarra_5 = 0\n",
    "                print(\"Se ha vaciado la jarra 5 lts\")\n",
    "        else: print(\"Indique 3 o 5 para especificar la jarra\")\n",
    "\n",
    "    def consultar(self,jarra):\n",
    "        if jarra == 3:\n",
    "            print(f\"La jarra de 3 lts tiene {self.jarra_3} litros\")\n",
    "        elif jarra == 5:\n",
    "            print(f\"La jarra de 5 lts tiene {self.jarra_5} litros\")\n",
    "        else: print(\"Indique por favor 3 o 5 para conocer el total de la jarra\")\n",
    "\n",
    "    def verter(self,jarra):\n",
    "        if jarra == 3:\n",
    "            if self.jarra_5 == 5:\n",
    "                print(\"La jarra de 5 lts ya está llena\")\n",
    "            elif self.jarra_5 == 0:\n",
    "                self.jarra_5 += self.jarra_3\n",
    "                self.jarra_3 = 0\n",
    "            else:\n",
    "                while (self.jarra_3 != 0 and self.jarra_5 < 5):\n",
    "                    self.jarra_5 += 1\n",
    "                    self.jarra_3 -= 1\n",
    "\n",
    "        if jarra == 5:\n",
    "            if self.jarra_3 == 3:\n",
    "                print (\"La jarra 3 se encuentra llena\")\n",
    "            else:\n",
    "                while (self.jarra_5 != 0 and self.jarra_3 < 3):\n",
    "                    self.jarra_5 -= 1\n",
    "                    self.jarra_3 += 1\n",
    "        \n",
    "        print(f\"Ahora la jarra 3 lts tiene {self.jarra_3} litros y la jarra 5 lts tiene {self.jarra_5} litros.\")"
   ]
  },
  {
   "cell_type": "code",
   "execution_count": 80,
   "metadata": {},
   "outputs": [],
   "source": []
  },
  {
   "cell_type": "code",
   "execution_count": 87,
   "metadata": {},
   "outputs": [
    {
     "name": "stdout",
     "output_type": "stream",
     "text": [
      "Se ha llenado la jarra 3lts\n",
      "Ahora la jarra 3 lts tiene 0 litros y la jarra 5 lts tiene 3 litros.\n",
      "Se ha llenado la jarra 3lts\n",
      "Ahora la jarra 3 lts tiene 1 litros y la jarra 5 lts tiene 5 litros.\n",
      "Se ha vaciado la jarra 5 lts\n",
      "Ahora la jarra 3 lts tiene 0 litros y la jarra 5 lts tiene 1 litros.\n",
      "Se ha llenado la jarra 3lts\n",
      "Ahora la jarra 3 lts tiene 0 litros y la jarra 5 lts tiene 4 litros.\n",
      "La jarra de 5 lts tiene 4 litros\n"
     ]
    }
   ],
   "source": [
    "x = JuegoJarras()\n",
    "x.llenar(3)\n",
    "x.verter(3)\n",
    "x.llenar(3)\n",
    "x.verter(3)\n",
    "x.vaciar(5)\n",
    "x.verter(3)\n",
    "x.llenar(3)\n",
    "x.verter(3)\n",
    "x.consultar(5)\n"
   ]
  }
 ],
 "metadata": {
  "kernelspec": {
   "display_name": "Python 3",
   "language": "python",
   "name": "python3"
  },
  "language_info": {
   "codemirror_mode": {
    "name": "ipython",
    "version": 3
   },
   "file_extension": ".py",
   "mimetype": "text/x-python",
   "name": "python",
   "nbconvert_exporter": "python",
   "pygments_lexer": "ipython3",
   "version": "3.11.4"
  }
 },
 "nbformat": 4,
 "nbformat_minor": 4
}
