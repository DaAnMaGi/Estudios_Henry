{
 "cells": [
  {
   "cell_type": "markdown",
   "metadata": {},
   "source": [
    "# Práctica Clase 5"
   ]
  },
  {
   "cell_type": "markdown",
   "metadata": {},
   "source": [
    "1) Implementar un juego, que consista en apilar números enteros del 1 al 20, de forma aleatoria, para lo cual debe usarse una estructura de Pila. \n",
    "Luego, el usuario debe elegir un número de veces en que se va a quitar elementos de la pila, los cuales, sumados entre sí, no deben superar el valor de 50.\n",
    "El usuario pierde si la suma supera ese valor. Si no lo supera, gana, pero su calificación será 10 menos el número elementos que falten quitar para todavía no superar 50.\n",
    "El programa debe informar si perdió, y si ganó, con qué calificación lo hizo.\n",
    "\n",
    "Consideraciones:<br>\n",
    "a. Se puede usar la función input() para obtener una entrada de teclado.<br>\n",
    "b. Se puede usar la el modulo random para obtener valores aleatorios."
   ]
  },
  {
   "cell_type": "code",
   "execution_count": 1,
   "metadata": {},
   "outputs": [],
   "source": [
    "import random"
   ]
  },
  {
   "cell_type": "code",
   "execution_count": 38,
   "metadata": {},
   "outputs": [],
   "source": [
    "def juego(sec):\n",
    "    lista = [] #se genera la variable \n",
    "    resultado = []\n",
    "\n",
    "    for e in range(10): # Se obtiene la lista de números al azar entre el 1 y el 20.\n",
    "        lista.append(random.randint(1,20))\n",
    "\n",
    "    while sec: # Se empiezan a agregar los elementos de la pila para obtener el resultado.\n",
    "        resultado.append(lista.pop())\n",
    "        sec -= 1\n",
    "\n",
    "    puntos = 10 # creamos la variable de los puntos.\n",
    "    \n",
    "    if sum(resultado) >= 50: #resultado en caso de que se pierda.\n",
    "        return print(f\"Pierdes, la sumatoria da {sum(resultado)}\")\n",
    "    else: # resultado en caso de ganar.\n",
    "        x = sum(resultado) # Guardamos la variable del resultado original.\n",
    "        while sum(resultado) < 50: # Y obtenemos el puntaje.\n",
    "            resultado.append(lista.pop())\n",
    "            puntos -= 1 # se le resta un punto cada vez que se realice el ciclo (falte un elemento para llegar a 50).\n",
    "\n",
    "    return print(f\"¡Ganaste! La sumatoria da {x}, obtienes {puntos} puntos\")\n"
   ]
  },
  {
   "cell_type": "code",
   "execution_count": 55,
   "metadata": {},
   "outputs": [
    {
     "name": "stdout",
     "output_type": "stream",
     "text": [
      "¡Ganaste! La sumatoria da 41, obtienes 9 puntos\n"
     ]
    }
   ],
   "source": [
    "x = int(input(\"Indica un número entre 3 y 6\"))\n",
    "juego(x)"
   ]
  },
  {
   "cell_type": "markdown",
   "metadata": {},
   "source": [
    "2) Implementar un juego donde constas de 2 jarras, de capacidad 5 y 3 litros respectivamente, y debes colocar 4 litros en la jarra de 5L.\n",
    "Las opciones posibles son:\n",
    "* Llenar la jarra de 3 litros\n",
    "* Llenar la jarra de 5 litros\n",
    "* Vaciar la jarra de 3 litros\n",
    "* Vaciar la jarra de 5 litros\n",
    "* Verter el contenido de la jarra de 3 litros en la de 5 litros\n",
    "* Verter el contenido de la jarra de 5 litros en la de 3 litros"
   ]
  },
  {
   "cell_type": "code",
   "execution_count": null,
   "metadata": {},
   "outputs": [],
   "source": []
  }
 ],
 "metadata": {
  "kernelspec": {
   "display_name": "Python 3",
   "language": "python",
   "name": "python3"
  },
  "language_info": {
   "codemirror_mode": {
    "name": "ipython",
    "version": 3
   },
   "file_extension": ".py",
   "mimetype": "text/x-python",
   "name": "python",
   "nbconvert_exporter": "python",
   "pygments_lexer": "ipython3",
   "version": "3.11.4"
  }
 },
 "nbformat": 4,
 "nbformat_minor": 4
}
