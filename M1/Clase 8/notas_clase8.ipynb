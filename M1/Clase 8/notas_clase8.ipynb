{
 "cells": [
  {
   "cell_type": "markdown",
   "metadata": {},
   "source": [
    "# Algoritmos - 1"
   ]
  },
  {
   "cell_type": "code",
   "execution_count": 2,
   "metadata": {},
   "outputs": [],
   "source": [
    "import numpy as np\n",
    "import random\n",
    "import time\n",
    "\n"
   ]
  },
  {
   "cell_type": "markdown",
   "metadata": {},
   "source": [
    "Insertion sort"
   ]
  },
  {
   "cell_type": "code",
   "execution_count": 9,
   "metadata": {},
   "outputs": [],
   "source": [
    "def insertion_sort(arr):\n",
    "    for i in range(1,len(arr)):\n",
    "        current = arr[i]\n",
    "        j = i-1\n",
    "\n",
    "        while j >= 0 and arr[j] > current:\n",
    "            arr[j + 1] = arr[j]\n",
    "            j -= 1\n",
    "\n",
    "        arr[j + 1] = current\n",
    "    return arr "
   ]
  },
  {
   "cell_type": "code",
   "execution_count": null,
   "metadata": {},
   "outputs": [],
   "source": []
  },
  {
   "cell_type": "code",
   "execution_count": 11,
   "metadata": {},
   "outputs": [
    {
     "data": {
      "text/plain": [
       "array([ 8,  5,  3,  0,  8,  9,  2,  7, 13, 18, 10, 15,  0,  4, 13, 16, 18,\n",
       "       13,  2,  9,  1, 19, 17, 13, 12, 18,  3, 10,  8, 11,  1,  6, 13, 19,\n",
       "       11, 11,  5,  1,  6,  9, 16, 11, 19,  5,  2, 18,  1, 13, 19, 13, 14,\n",
       "        5, 18,  2, 19,  3, 13, 17, 11,  5,  7,  9,  4,  9, 18, 19, 15,  2,\n",
       "       17, 13,  0, 18,  6,  1, 11, 19, 14, 11, 15, 12,  1, 10, 14, 19,  8,\n",
       "       16,  5,  6, 19, 15, 19, 11, 11,  7,  1, 18,  6,  0, 17,  8])"
      ]
     },
     "execution_count": 11,
     "metadata": {},
     "output_type": "execute_result"
    }
   ],
   "source": [
    "lista = np.random.randint(0,20,100)\n",
    "lista"
   ]
  },
  {
   "cell_type": "code",
   "execution_count": 12,
   "metadata": {},
   "outputs": [
    {
     "data": {
      "text/plain": [
       "array([ 0,  0,  0,  0,  1,  1,  1,  1,  1,  1,  1,  2,  2,  2,  2,  2,  3,\n",
       "        3,  3,  4,  4,  5,  5,  5,  5,  5,  5,  6,  6,  6,  6,  6,  7,  7,\n",
       "        7,  8,  8,  8,  8,  8,  9,  9,  9,  9,  9, 10, 10, 10, 11, 11, 11,\n",
       "       11, 11, 11, 11, 11, 11, 12, 12, 13, 13, 13, 13, 13, 13, 13, 13, 13,\n",
       "       14, 14, 14, 15, 15, 15, 15, 16, 16, 16, 17, 17, 17, 17, 18, 18, 18,\n",
       "       18, 18, 18, 18, 18, 19, 19, 19, 19, 19, 19, 19, 19, 19, 19])"
      ]
     },
     "execution_count": 12,
     "metadata": {},
     "output_type": "execute_result"
    }
   ],
   "source": [
    "insertion_sort(lista)"
   ]
  },
  {
   "cell_type": "markdown",
   "metadata": {},
   "source": [
    "Bubblesort"
   ]
  },
  {
   "cell_type": "code",
   "execution_count": 14,
   "metadata": {},
   "outputs": [],
   "source": [
    "def bubble_sort(lista):\n",
    "    n = len(lista)\n",
    "\n",
    "    for i in range(n-1):\n",
    "        for j in range(n-i-1):\n",
    "            if lista[j] > lista[j+1]:\n",
    "                lista[j], lista[j+1] = lista[j+1], lista[j]\n",
    "    \n",
    "    return lista"
   ]
  },
  {
   "cell_type": "code",
   "execution_count": 15,
   "metadata": {},
   "outputs": [
    {
     "data": {
      "text/plain": [
       "array([507, 445, 918, 403, 459, 610, 546, 395, 577, 178,  31,  83, 702,\n",
       "       790, 592, 757, 255, 249, 687, 373, 479, 205, 263, 815,  75,  76,\n",
       "       702, 420, 427,  34, 154,   5, 181, 401, 665, 657, 209, 423, 947,\n",
       "       270, 744, 516, 153, 317, 852, 710, 789, 895, 811, 168, 835, 366,\n",
       "        37,  95, 778, 316, 509, 241, 514, 243, 462, 308, 978, 242, 326,\n",
       "       341, 698, 712, 500,  96, 518, 449, 110, 492, 580, 196, 343, 395,\n",
       "       851, 799, 338, 892, 937, 389, 384, 365,   1, 842, 588, 845, 850,\n",
       "       163, 649, 890,  63, 426, 750, 832, 212, 265])"
      ]
     },
     "execution_count": 15,
     "metadata": {},
     "output_type": "execute_result"
    }
   ],
   "source": [
    "lista2 = np.random.randint(0,1000,100)\n",
    "lista2"
   ]
  },
  {
   "cell_type": "code",
   "execution_count": 16,
   "metadata": {},
   "outputs": [
    {
     "data": {
      "text/plain": [
       "array([  1,   5,  31,  34,  37,  63,  75,  76,  83,  95,  96, 110, 153,\n",
       "       154, 163, 168, 178, 181, 196, 205, 209, 212, 241, 242, 243, 249,\n",
       "       255, 263, 265, 270, 308, 316, 317, 326, 338, 341, 343, 365, 366,\n",
       "       373, 384, 389, 395, 395, 401, 403, 420, 423, 426, 427, 445, 449,\n",
       "       459, 462, 479, 492, 500, 507, 509, 514, 516, 518, 546, 577, 580,\n",
       "       588, 592, 610, 649, 657, 665, 687, 698, 702, 702, 710, 712, 744,\n",
       "       750, 757, 778, 789, 790, 799, 811, 815, 832, 835, 842, 845, 850,\n",
       "       851, 852, 890, 892, 895, 918, 937, 947, 978])"
      ]
     },
     "execution_count": 16,
     "metadata": {},
     "output_type": "execute_result"
    }
   ],
   "source": [
    "bubble_sort(lista2)"
   ]
  }
 ],
 "metadata": {
  "kernelspec": {
   "display_name": "Python 3",
   "language": "python",
   "name": "python3"
  },
  "language_info": {
   "codemirror_mode": {
    "name": "ipython",
    "version": 3
   },
   "file_extension": ".py",
   "mimetype": "text/x-python",
   "name": "python",
   "nbconvert_exporter": "python",
   "pygments_lexer": "ipython3",
   "version": "3.11.4"
  },
  "orig_nbformat": 4
 },
 "nbformat": 4,
 "nbformat_minor": 2
}
