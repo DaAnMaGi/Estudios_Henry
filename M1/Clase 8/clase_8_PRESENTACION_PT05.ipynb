{
 "cells": [
  {
   "cell_type": "code",
   "execution_count": 4,
   "id": "4b6e5878",
   "metadata": {},
   "outputs": [],
   "source": [
    "import numpy as np\n",
    "import random\n",
    "import time\n",
    "import matplotlib.pyplot as plt"
   ]
  },
  {
   "cell_type": "markdown",
   "id": "9dcf84b1",
   "metadata": {},
   "source": [
    "# Insertion sort"
   ]
  },
  {
   "cell_type": "markdown",
   "id": "cc8d22a7",
   "metadata": {},
   "source": [
    "https://visualgo.net/en/sorting"
   ]
  },
  {
   "cell_type": "code",
   "execution_count": 2,
   "id": "3ce03130",
   "metadata": {},
   "outputs": [],
   "source": [
    "def insertion_sort(arr):\n",
    "    for i in range(1, len(arr)):\n",
    "        current = arr[i]\n",
    "        j = i - 1\n",
    "        \n",
    "        while j >= 0 and arr[j] > current:\n",
    "            arr[j + 1] = arr[j]\n",
    "            j -= 1\n",
    "        \n",
    "        arr[j + 1] = current\n",
    "    \n",
    "    return arr"
   ]
  },
  {
   "cell_type": "code",
   "execution_count": 13,
   "id": "ff9b80f6",
   "metadata": {},
   "outputs": [
    {
     "name": "stdout",
     "output_type": "stream",
     "text": [
      "[ 21 833 334 262 163 873 773 363 425 406 540  33  29 889 781 307 655 972\n",
      " 696 936  78 153 430 808 394 727 935 240 674 181 631 475 343 453 154 747\n",
      " 767 803 877 395 394 235 690 755  44 105 622  55 777 221 119  20 800 887\n",
      " 531 595 776 908 853  98 987  75 447 176 117 990 240 861 876 226 938 821\n",
      " 853 443 708 204 392 294 544 336 977 792 605 929 992 470 982 326 714  41\n",
      " 288 924 212 984 936 231  47 267 977 199]\n"
     ]
    }
   ],
   "source": [
    "lista_desordenada = np.random.randint(0, 1000, 100)\n",
    "print(lista_desordenada)"
   ]
  },
  {
   "cell_type": "code",
   "execution_count": 14,
   "id": "4f01210c",
   "metadata": {},
   "outputs": [
    {
     "data": {
      "text/plain": [
       "array([ 20,  21,  29,  33,  41,  44,  47,  55,  75,  78,  98, 105, 117,\n",
       "       119, 153, 154, 163, 176, 181, 199, 204, 212, 221, 226, 231, 235,\n",
       "       240, 240, 262, 267, 288, 294, 307, 326, 334, 336, 343, 363, 392,\n",
       "       394, 394, 395, 406, 425, 430, 443, 447, 453, 470, 475, 531, 540,\n",
       "       544, 595, 605, 622, 631, 655, 674, 690, 696, 708, 714, 727, 747,\n",
       "       755, 767, 773, 776, 777, 781, 792, 800, 803, 808, 821, 833, 853,\n",
       "       853, 861, 873, 876, 877, 887, 889, 908, 924, 929, 935, 936, 936,\n",
       "       938, 972, 977, 977, 982, 984, 987, 990, 992])"
      ]
     },
     "execution_count": 14,
     "metadata": {},
     "output_type": "execute_result"
    }
   ],
   "source": [
    "insertion_sort(lista_desordenada)"
   ]
  },
  {
   "cell_type": "code",
   "execution_count": null,
   "id": "13a22b12",
   "metadata": {},
   "outputs": [],
   "source": []
  },
  {
   "cell_type": "code",
   "execution_count": null,
   "id": "e47ea31e",
   "metadata": {},
   "outputs": [],
   "source": []
  },
  {
   "cell_type": "markdown",
   "id": "1589aad7",
   "metadata": {},
   "source": [
    "# BubbleSort"
   ]
  },
  {
   "cell_type": "code",
   "execution_count": 15,
   "id": "65342346",
   "metadata": {},
   "outputs": [],
   "source": [
    "def bubble_sort(lista):\n",
    "    \n",
    "    n = len(lista)\n",
    "    \n",
    "    for i in range(n - 1):\n",
    "        for j in range(n - i - 1):\n",
    "            if lista[j] > lista[j + 1]:\n",
    "                lista[j], lista[j + 1] = lista[j + 1], lista[j]\n",
    "            \n",
    "    return lista"
   ]
  },
  {
   "cell_type": "code",
   "execution_count": 16,
   "id": "ad04e46c",
   "metadata": {},
   "outputs": [
    {
     "name": "stdout",
     "output_type": "stream",
     "text": [
      "[581 893 992 540 991 516 490  43 419 788 799 821 647 555 720 183 851 100\n",
      " 344 115 548  73  35 168 555 141 193 736 470 516 762 490 979 418 815 962\n",
      " 306 383 419 844 349 809 508 734 494 568 381 421 515 835 173 719 736 792\n",
      " 580 383 297 527 303 141 845 410 449 118 399 846  30  65  59 616 489 497\n",
      " 355 599 157 321 506 283 340  94 824 729 611 830 212 106 824 321 616 245\n",
      "  72 799 132 956 928  63 630  42 292 225]\n"
     ]
    }
   ],
   "source": [
    "lista_desordenada_2 = np.random.randint(0, 1000, 100)\n",
    "print(lista_desordenada_2)"
   ]
  },
  {
   "cell_type": "code",
   "execution_count": 17,
   "id": "06b88ae7",
   "metadata": {},
   "outputs": [
    {
     "data": {
      "text/plain": [
       "array([ 30,  35,  42,  43,  59,  63,  65,  72,  73,  94, 100, 106, 115,\n",
       "       118, 132, 141, 141, 157, 168, 173, 183, 193, 212, 225, 245, 283,\n",
       "       292, 297, 303, 306, 321, 321, 340, 344, 349, 355, 381, 383, 383,\n",
       "       399, 410, 418, 419, 419, 421, 449, 470, 489, 490, 490, 494, 497,\n",
       "       506, 508, 515, 516, 516, 527, 540, 548, 555, 555, 568, 580, 581,\n",
       "       599, 611, 616, 616, 630, 647, 719, 720, 729, 734, 736, 736, 762,\n",
       "       788, 792, 799, 799, 809, 815, 821, 824, 824, 830, 835, 844, 845,\n",
       "       846, 851, 893, 928, 956, 962, 979, 991, 992])"
      ]
     },
     "execution_count": 17,
     "metadata": {},
     "output_type": "execute_result"
    }
   ],
   "source": [
    "bubble_sort(lista_desordenada_2)"
   ]
  },
  {
   "cell_type": "code",
   "execution_count": null,
   "id": "751e86fa",
   "metadata": {},
   "outputs": [],
   "source": []
  },
  {
   "cell_type": "code",
   "execution_count": null,
   "id": "aa6a5d52",
   "metadata": {},
   "outputs": [],
   "source": []
  },
  {
   "cell_type": "code",
   "execution_count": null,
   "id": "b267602f",
   "metadata": {},
   "outputs": [],
   "source": []
  },
  {
   "cell_type": "code",
   "execution_count": null,
   "id": "0df6a055",
   "metadata": {},
   "outputs": [],
   "source": []
  },
  {
   "cell_type": "code",
   "execution_count": null,
   "id": "5582597d",
   "metadata": {},
   "outputs": [],
   "source": []
  },
  {
   "cell_type": "code",
   "execution_count": null,
   "id": "b271228e",
   "metadata": {},
   "outputs": [],
   "source": []
  },
  {
   "cell_type": "code",
   "execution_count": null,
   "id": "4a290259",
   "metadata": {},
   "outputs": [],
   "source": []
  },
  {
   "cell_type": "code",
   "execution_count": 20,
   "id": "fb95eae3",
   "metadata": {},
   "outputs": [],
   "source": [
    "def evaluar_algoritmos():\n",
    "    sizes = list(range(100, 10001, 1000))  # Tamaños de lista a evaluar\n",
    "    bubble_sort_times = []\n",
    "    insertion_sort_times = []\n",
    "\n",
    "    for size in sizes:\n",
    "        unsorted_1 = random.sample(range(size), size)\n",
    "\n",
    "        start_time = time.time()\n",
    "        bubble_sort(unsorted_1.copy())\n",
    "        end_time = time.time()\n",
    "        bubble_sort_time = end_time - start_time\n",
    "        bubble_sort_times.append(bubble_sort_time)\n",
    "        \n",
    "        unsorted_2 = random.sample(range(size), size)\n",
    "\n",
    "        start_time = time.time()\n",
    "        insertion_sort(unsorted_1.copy())\n",
    "        end_time = time.time()\n",
    "        insertion_sort_time = end_time - start_time\n",
    "        insertion_sort_times.append(insertion_sort_time)\n",
    "\n",
    "    # Gráfico de rendimiento\n",
    "    plt.plot(sizes, bubble_sort_times, label='Bubble Sort')\n",
    "    plt.plot(sizes, insertion_sort_times, label='Insertion Sort')\n",
    "    plt.xlabel('Tamaño de la lista')\n",
    "    plt.ylabel('Tiempo de ejecución (segundos)')\n",
    "    plt.title('Rendimiento de los algoritmos de ordenamiento')\n",
    "    plt.legend()\n",
    "    plt.show()"
   ]
  },
  {
   "cell_type": "code",
   "execution_count": 21,
   "id": "b2864bb9",
   "metadata": {},
   "outputs": [
    {
     "data": {
      "image/png": "[encoded data removed]",
      "text/plain": [
       "<Figure size 640x480 with 1 Axes>"
      ]
     },
     "metadata": {},
     "output_type": "display_data"
    }
   ],
   "source": [
    "# Ejecutar la evaluación\n",
    "evaluar_algoritmos()"
   ]
  },
  {
   "cell_type": "code",
   "execution_count": null,
   "id": "2d9bbc6c",
   "metadata": {},
   "outputs": [],
   "source": []
  }
 ],
 "metadata": {
  "kernelspec": {
   "display_name": "Python 3 (ipykernel)",
   "language": "python",
   "name": "python3"
  },
  "language_info": {
   "codemirror_mode": {
    "name": "ipython",
    "version": 3
   },
   "file_extension": ".py",
   "mimetype": "text/x-python",
   "name": "python",
   "nbconvert_exporter": "python",
   "pygments_lexer": "ipython3",
   "version": "3.9.15"
  }
 },
 "nbformat": 4,
 "nbformat_minor": 5
}
