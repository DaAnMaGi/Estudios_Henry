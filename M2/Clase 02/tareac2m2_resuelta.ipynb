{
 "cells": [
  {
   "cell_type": "markdown",
   "metadata": {},
   "source": [
    "## Homework"
   ]
  },
  {
   "cell_type": "markdown",
   "metadata": {},
   "source": [
    "Utilizando Python cálcular las siguientes probabilidades. Para cada uno intenta determinar que método aplicaste.<br>\n",
    "\n",
    "1. Lanza una moneda al aire 10 veces, ¿cuantos resultados posibles forman parte del espacio muestral?.\n",
    "2. En un aeropuerto se tiene a 10 pasajeros esperando en la sala de preembarque, la polícia debe controlar a 3 de ellos. ¿Cuantas combinaciones posibles se pueden obtener?."
   ]
  },
  {
   "cell_type": "code",
   "execution_count": 3,
   "metadata": {},
   "outputs": [],
   "source": [
    "import numpy as np\n",
    "import math as m\n",
    "import pandas as pd"
   ]
  },
  {
   "cell_type": "code",
   "execution_count": 4,
   "metadata": {},
   "outputs": [],
   "source": [
    "# Pregunta 1\n",
    "\n",
    "def combinatories(n_poss,total_n):\n",
    "    '''\n",
    "    This funtion give as an answer the total of combinations that a n number of data.\n",
    "    '''\n",
    "    ans = (m.factorial(total_n))/((m.factorial(n_poss))*(m.factorial(total_n-n_poss)))\n",
    "\n",
    "    return ans\n",
    "\n",
    "def permutations(n_poss,total_n):\n",
    "    '''\n",
    "    This funtion gives as an answer the total number of permutations possible for a n number of data.\n",
    "    '''\n",
    "    ans = (m.factorial(total_n))/m.factorial(total_n-n_poss)\n",
    "\n",
    "    return ans"
   ]
  },
  {
   "cell_type": "code",
   "execution_count": 11,
   "metadata": {},
   "outputs": [
    {
     "data": {
      "text/plain": [
       "45.0"
      ]
     },
     "execution_count": 11,
     "metadata": {},
     "output_type": "execute_result"
    }
   ],
   "source": [
    "# 1. Lanza una moneda al aire 10 veces, ¿cuantos resultados posibles forman parte del espacio muestral?.\n",
    "\n",
    "combinatories(2,10)"
   ]
  },
  {
   "cell_type": "code",
   "execution_count": 5,
   "metadata": {},
   "outputs": [
    {
     "data": {
      "text/plain": [
       "90.0"
      ]
     },
     "execution_count": 5,
     "metadata": {},
     "output_type": "execute_result"
    }
   ],
   "source": [
    "permutations(2,10)"
   ]
  },
  {
   "cell_type": "code",
   "execution_count": 12,
   "metadata": {},
   "outputs": [
    {
     "data": {
      "text/plain": [
       "120.0"
      ]
     },
     "execution_count": 12,
     "metadata": {},
     "output_type": "execute_result"
    }
   ],
   "source": [
    "# 2. En un aeropuerto se tiene a 10 pasajeros esperando en la sala de preembarque, la polícia debe controlar a 3 de ellos. ¿Cuantas combinaciones posibles se pueden obtener?.\n",
    "\n",
    "combinatories(3,10)\n"
   ]
  },
  {
   "cell_type": "markdown",
   "metadata": {},
   "source": [
    "3. La Agencia Nacional de Seguridad Vial realizó una investigación para saber si los conductores de están usando sus cinturones de seguridad. Los datos muestrales fueron los siguientes:<br>\n",
    "Conductores que emplean el cinturón <br>\n",
    "\n",
    "![Ejercicio](../_src/assets/ejercicio3.PNG)\n",
    "\n",
    "- a) ¿Qué metodo cree que se utilizo para asignar probabilidades?.\n",
    "- b) Construya un cuadro similar, pero con la asignación de probabilidades.\n",
    "- c) ¿Cuál sería el mejor método pára estimar la probabilidad de que en Estados Unidos un conductor lleve puesto el cinturón?.\n",
    "- d) Un año antes, la probabilidad en Argentina de que un conductor llevara puesto el cinturón era 0.75. El director de ANSV, se esperaba que la probabilidad llegara a 0.78. ¿Estará satisfecho con los resultados del estudio? (Utilizar tabla adjunta (![Ejercicio](../_src/assets/ejercicio3.PNG))\n",
    "- e) ¿Cuál es la probabilidad de que se use el cinturón en las distintas regiones del país? ¿En qué región se usa más el cinturón?(Utilizar misma tabla que el ejercicio anterior)."
   ]
  },
  {
   "cell_type": "code",
   "execution_count": 13,
   "metadata": {},
   "outputs": [
    {
     "data": {
      "text/html": [
       "<div>\n",
       "<style scoped>\n",
       "    .dataframe tbody tr th:only-of-type {\n",
       "        vertical-align: middle;\n",
       "    }\n",
       "\n",
       "    .dataframe tbody tr th {\n",
       "        vertical-align: top;\n",
       "    }\n",
       "\n",
       "    .dataframe thead th {\n",
       "        text-align: right;\n",
       "    }\n",
       "</style>\n",
       "<table border=\"1\" class=\"dataframe\">\n",
       "  <thead>\n",
       "    <tr style=\"text-align: right;\">\n",
       "      <th></th>\n",
       "      <th>Región</th>\n",
       "      <th>Sí</th>\n",
       "      <th>No</th>\n",
       "    </tr>\n",
       "  </thead>\n",
       "  <tbody>\n",
       "    <tr>\n",
       "      <th>0</th>\n",
       "      <td>Norte</td>\n",
       "      <td>148</td>\n",
       "      <td>52</td>\n",
       "    </tr>\n",
       "    <tr>\n",
       "      <th>1</th>\n",
       "      <td>Noreste</td>\n",
       "      <td>162</td>\n",
       "      <td>54</td>\n",
       "    </tr>\n",
       "    <tr>\n",
       "      <th>2</th>\n",
       "      <td>Sur</td>\n",
       "      <td>296</td>\n",
       "      <td>74</td>\n",
       "    </tr>\n",
       "    <tr>\n",
       "      <th>3</th>\n",
       "      <td>Centro</td>\n",
       "      <td>252</td>\n",
       "      <td>48</td>\n",
       "    </tr>\n",
       "    <tr>\n",
       "      <th>4</th>\n",
       "      <td>Total</td>\n",
       "      <td>858</td>\n",
       "      <td>228</td>\n",
       "    </tr>\n",
       "  </tbody>\n",
       "</table>\n",
       "</div>"
      ],
      "text/plain": [
       "    Región   Sí   No\n",
       "0    Norte  148   52\n",
       "1  Noreste  162   54\n",
       "2      Sur  296   74\n",
       "3   Centro  252   48\n",
       "4    Total  858  228"
      ]
     },
     "execution_count": 13,
     "metadata": {},
     "output_type": "execute_result"
    }
   ],
   "source": [
    "# Pregunta a) considero que se utilizó un método clásico, frecuentista (los datos existían con anterioridad o los tomaron de estadísitcas realizadas con anterioridad) o subjetivista.\n",
    "\n",
    "# Pregunta b) Probabilidad de llevar cinturón sobre el total del país.\n",
    "info_3 = {\"Región\":[\"Norte\",\"Noreste\",\"Sur\",\"Centro\",\"Total\"],\n",
    "          \"Sí\":[148,162,296,252,858],\n",
    "          \"No\": [52,54,74,48,228]}\n",
    "\n",
    "cinturones = pd.DataFrame(info_3)\n",
    "cinturones"
   ]
  },
  {
   "cell_type": "code",
   "execution_count": 14,
   "metadata": {},
   "outputs": [],
   "source": [
    "def probability(n,total):\n",
    "    ans = n / total\n",
    "    return ans"
   ]
  },
  {
   "cell_type": "code",
   "execution_count": 15,
   "metadata": {},
   "outputs": [
    {
     "data": {
      "text/plain": [
       "0    0.172494\n",
       "1    0.188811\n",
       "2    0.344988\n",
       "3    0.293706\n",
       "4    1.000000\n",
       "Name: Sí, dtype: float64"
      ]
     },
     "execution_count": 15,
     "metadata": {},
     "output_type": "execute_result"
    }
   ],
   "source": [
    "probability(cinturones[\"Sí\"],cinturones[\"Sí\"][4])"
   ]
  },
  {
   "cell_type": "code",
   "execution_count": 16,
   "metadata": {},
   "outputs": [
    {
     "data": {
      "text/html": [
       "<div>\n",
       "<style scoped>\n",
       "    .dataframe tbody tr th:only-of-type {\n",
       "        vertical-align: middle;\n",
       "    }\n",
       "\n",
       "    .dataframe tbody tr th {\n",
       "        vertical-align: top;\n",
       "    }\n",
       "\n",
       "    .dataframe thead th {\n",
       "        text-align: right;\n",
       "    }\n",
       "</style>\n",
       "<table border=\"1\" class=\"dataframe\">\n",
       "  <thead>\n",
       "    <tr style=\"text-align: right;\">\n",
       "      <th></th>\n",
       "      <th>Región</th>\n",
       "      <th>Sí</th>\n",
       "      <th>No</th>\n",
       "      <th>Probabilidad sí</th>\n",
       "      <th>Probabilidad no</th>\n",
       "    </tr>\n",
       "  </thead>\n",
       "  <tbody>\n",
       "    <tr>\n",
       "      <th>0</th>\n",
       "      <td>Norte</td>\n",
       "      <td>148</td>\n",
       "      <td>52</td>\n",
       "      <td>0.136280</td>\n",
       "      <td>0.047882</td>\n",
       "    </tr>\n",
       "    <tr>\n",
       "      <th>1</th>\n",
       "      <td>Noreste</td>\n",
       "      <td>162</td>\n",
       "      <td>54</td>\n",
       "      <td>0.149171</td>\n",
       "      <td>0.049724</td>\n",
       "    </tr>\n",
       "    <tr>\n",
       "      <th>2</th>\n",
       "      <td>Sur</td>\n",
       "      <td>296</td>\n",
       "      <td>74</td>\n",
       "      <td>0.272560</td>\n",
       "      <td>0.068140</td>\n",
       "    </tr>\n",
       "    <tr>\n",
       "      <th>3</th>\n",
       "      <td>Centro</td>\n",
       "      <td>252</td>\n",
       "      <td>48</td>\n",
       "      <td>0.232044</td>\n",
       "      <td>0.044199</td>\n",
       "    </tr>\n",
       "    <tr>\n",
       "      <th>4</th>\n",
       "      <td>Total</td>\n",
       "      <td>858</td>\n",
       "      <td>228</td>\n",
       "      <td>0.790055</td>\n",
       "      <td>0.209945</td>\n",
       "    </tr>\n",
       "  </tbody>\n",
       "</table>\n",
       "</div>"
      ],
      "text/plain": [
       "    Región   Sí   No  Probabilidad sí  Probabilidad no\n",
       "0    Norte  148   52         0.136280         0.047882\n",
       "1  Noreste  162   54         0.149171         0.049724\n",
       "2      Sur  296   74         0.272560         0.068140\n",
       "3   Centro  252   48         0.232044         0.044199\n",
       "4    Total  858  228         0.790055         0.209945"
      ]
     },
     "execution_count": 16,
     "metadata": {},
     "output_type": "execute_result"
    }
   ],
   "source": [
    "total_n = cinturones[\"Sí\"][4] + cinturones[\"No\"][4]\n",
    "cinturones[\"Probabilidad sí\"] = probability(cinturones[\"Sí\"],total_n)\n",
    "cinturones[\"Probabilidad no\"] = probability(cinturones[\"No\"],total_n)\n",
    "cinturones"
   ]
  },
  {
   "cell_type": "code",
   "execution_count": 25,
   "metadata": {},
   "outputs": [
    {
     "name": "stdout",
     "output_type": "stream",
     "text": [
      "La probabilidad de que se use el cinturón en la región del Norte es de 0.74\n",
      "La probabilidad de que se use el cinturón en la región del Noreste es de 0.75\n",
      "La probabilidad de que se use el cinturón en la región del Sur es de 0.8\n",
      "La probabilidad de que se use el cinturón en la región del Centro es de 0.84\n",
      "La probabilidad de que se use el cinturón en la región del Total es de 0.79\n"
     ]
    }
   ],
   "source": [
    "# C) Creo que el mejor método podría ser a ravés del método clásico, obteniendo la información de una investigación.\n",
    "\n",
    "# D) Sí, ya que para este año, la probabilidad aumentó a 0.79, lo que es superior al esperado por el director (0.78).\n",
    "\n",
    "# E) Probabilidad de que se use el cinturón por región. \n",
    "\n",
    "for i in range(len(cinturones)):\n",
    "    region = cinturones[\"Región\"][i]\n",
    "    n_total_region = cinturones[\"Sí\"][i] + cinturones[\"No\"][i]\n",
    "    pro = round(probability(cinturones[\"Sí\"][i],n_total_region),2)\n",
    "\n",
    "    print(f\"La probabilidad de que se use el cinturón en la región del {region} es de {pro}\")\n",
    "\n",
    "# La región con mayor probabilidad de llevar cinturón es la del centro, con 0.84"
   ]
  },
  {
   "cell_type": "markdown",
   "metadata": {},
   "source": [
    "4. Crear una funcion que permita calcular a probabilidad de los siguientes eventos en un baraja de 52 cartas.<br>\n",
    "- Obtener una carta roja.<br>\n",
    "- Obtener una carta negra.<br>\n",
    "- Obtener una pica.<br>\n",
    "- Obtener un trébol.<br>\n",
    "- Obtener un corazón.<br>\n",
    "- Obtener un diamante.<br>"
   ]
  },
  {
   "cell_type": "code",
   "execution_count": 27,
   "metadata": {},
   "outputs": [],
   "source": [
    "def prob_cartas(tipo):\n",
    "    if tipo == \"rojas\":\n",
    "       n = 52/2\n",
    "    elif tipo == \"negras\":\n",
    "        n = 52/2\n",
    "    elif tipo == \"picas\":\n",
    "        n = 52/4\n",
    "    elif tipo == \"trebol\":\n",
    "        n = 52/4\n",
    "    elif tipo == \"corazones\": \n",
    "        n = 52/4\n",
    "    elif tipo == \"diamantes\":\n",
    "        n = 52/4\n",
    "\n",
    "    total = 52\n",
    "\n",
    "    prob = n/total\n",
    "\n",
    "    print(f\"La probabilidad de obtener una carta de {tipo} es de {prob}\")"
   ]
  },
  {
   "cell_type": "code",
   "execution_count": 29,
   "metadata": {},
   "outputs": [
    {
     "name": "stdout",
     "output_type": "stream",
     "text": [
      "La probabilidad de obtener una carta de rojas es de 0.5\n",
      "La probabilidad de obtener una carta de negras es de 0.5\n",
      "La probabilidad de obtener una carta de picas es de 0.25\n",
      "La probabilidad de obtener una carta de trebol es de 0.25\n",
      "La probabilidad de obtener una carta de corazones es de 0.25\n",
      "La probabilidad de obtener una carta de diamantes es de 0.25\n"
     ]
    }
   ],
   "source": [
    "prob_cartas(\"rojas\")\n",
    "prob_cartas(\"negras\")\n",
    "prob_cartas(\"picas\")\n",
    "prob_cartas(\"trebol\")\n",
    "prob_cartas(\"corazones\")\n",
    "prob_cartas(\"diamantes\")"
   ]
  },
  {
   "cell_type": "markdown",
   "metadata": {},
   "source": [
    "5. La probabilidad de que salga un 7 o un 8 al seleccionar una carta de una baraja de las 52 cartas que contiene el mazo. <br>\n",
    "6. La probabilidad de tu país gane el mundial de fútbol.<br>\n",
    "7. Un experimento que tiene tres resultados es repetido 50 veces y se ve que E1 aparece 20 veces, E2 13 veces y E3 17 veces. Asigne probabilidades a los resultados.<br>"
   ]
  },
  {
   "cell_type": "code",
   "execution_count": 31,
   "metadata": {},
   "outputs": [
    {
     "name": "stdout",
     "output_type": "stream",
     "text": [
      "La probabilidad de que salga un 7 o un 8 es de 0.15\n",
      "La probabilidad de que colombia gane el mundial es de 0.00474\n",
      "La probabilidad del experimento 1 es de 0.4, \n",
      "La probabilidad el experimento 2 es de 0.26 \n",
      "La probabilidad del experimento 3 es de 0.34\n"
     ]
    }
   ],
   "source": [
    "# 5 \n",
    "\n",
    "print(f\"La probabilidad de que salga un 7 o un 8 es de {round((4/52) + (4/52) - 0,2)}\")\n",
    "\n",
    "# 6 - Si lo miramos de que la probabilidad sea del país sobre el número total de países en el mundo (tomaremos 211 países), es de: \n",
    "\n",
    "print(f\"La probabilidad de que colombia gane el mundial es de {round(1/211,5)}\")\n",
    "\n",
    "# 7 Las probabilidades de los resultados son:\n",
    "\n",
    "e1 = 20/50\n",
    "e2 = 13/50\n",
    "e3 = 17/50\n",
    "\n",
    "print(f\"La probabilidad del experimento 1 es de {e1}, \\n\"\n",
    "      f\"La probabilidad el experimento 2 es de {e2} \\n\"\n",
    "      f\"La probabilidad del experimento 3 es de {e3}\")"
   ]
  },
  {
   "cell_type": "markdown",
   "metadata": {},
   "source": [
    "## Desafíos complementarios \n",
    "\n",
    "### Investiga e intenta resolver los siguientes ejercicios\n",
    "\n",
    "1. Si la probabilidad de que un cliente pague en efectivo (E) es 6/15, con tarjeta de crédito (TD) es 7/15 y con tarjeta de débito (TD) es 2/15. Hallar la probabilidad de que dos clientes sucesivos que pagan sus cuentas lo hagan:<br>\n",
    " a) el primero en efectivo y el segundo con tarjeta de crédito.<br>\n",
    " b) Los dos clientes en efectivo<br>\n"
   ]
  },
  {
   "cell_type": "code",
   "execution_count": 32,
   "metadata": {},
   "outputs": [
    {
     "name": "stdout",
     "output_type": "stream",
     "text": [
      "La probabilidad de que el primer cliente pague con efectivo y el segundo con tarjeta de crédito es de 0.18666666666666668\n",
      "La probabilidad de que los dos clientes paguen en efectivo es de 0.16000000000000003\n"
     ]
    }
   ],
   "source": [
    "efectivo = 6/15\n",
    "credito = 7/15\n",
    "debito = 2/15\n",
    "# a\n",
    "\n",
    "deb_cred = efectivo * credito\n",
    "print(f\"La probabilidad de que el primer cliente pague con efectivo y el segundo con tarjeta de crédito es de {deb_cred}\")\n",
    "\n",
    "# B \n",
    "efec_efec = efectivo * efectivo\n",
    "print(f\"La probabilidad de que los dos clientes paguen en efectivo es de {efec_efec}\")"
   ]
  },
  {
   "cell_type": "markdown",
   "metadata": {},
   "source": [
    "2. La probabilidad de que un Henry repruebe el M1 de 0.8, de que apruebe M2 es 0.5 y de que repruebe el M3 es de 0.4.<br>\n",
    " (Los eventos no interfieren entre si) <br>\n",
    "\n",
    "![Tabla](../_src/assets/probhenry.PNG)\n",
    "\n",
    "Determinar la probabilidad de que:<br>\n",
    " a) Apruebe un módulo.<br>\n",
    " b) Repruebe las tres materias."
   ]
  },
  {
   "cell_type": "code",
   "execution_count": 33,
   "metadata": {},
   "outputs": [
    {
     "name": "stdout",
     "output_type": "stream",
     "text": [
      "La probabilidad de aprobar los tres módulos es de 0.06\n",
      "La probabilidad de desabrolar los trés módulos es de 0.16000000000000003\n"
     ]
    }
   ],
   "source": [
    "# a\n",
    "\n",
    "M1_a = 0.2\n",
    "M2_a = 0.5\n",
    "M3_a = 0.6\n",
    "aprobar = M1_a * M2_a * M3_a\n",
    "print(f\"La probabilidad de aprobar los tres módulos es de {aprobar}\")\n",
    "\n",
    "# B \n",
    "\n",
    "m1 = 0.8\n",
    "m2 = 0.5\n",
    "m3 = 0.4\n",
    "\n",
    "desaprobar = m1 * m2 * m3 #Esto es en teoría porque si desaprueba la primera no puede pasar a la segunda y viceversa. Se hace de esta manera ya que se indica que los elementos no interfieren entre sí\"\n",
    "\n",
    "print(f\"La probabilidad de desabrolar los trés módulos es de {desaprobar}\")"
   ]
  }
 ],
 "metadata": {
  "kernelspec": {
   "display_name": "Python 3",
   "language": "python",
   "name": "python3"
  },
  "language_info": {
   "codemirror_mode": {
    "name": "ipython",
    "version": 3
   },
   "file_extension": ".py",
   "mimetype": "text/x-python",
   "name": "python",
   "nbconvert_exporter": "python",
   "pygments_lexer": "ipython3",
   "version": "3.11.5"
  },
  "orig_nbformat": 4
 },
 "nbformat": 4,
 "nbformat_minor": 2
}
