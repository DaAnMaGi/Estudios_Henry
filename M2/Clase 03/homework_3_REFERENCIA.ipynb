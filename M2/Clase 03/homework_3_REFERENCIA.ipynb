{
 "cells": [
  {
   "cell_type": "markdown",
   "id": "4696b59a",
   "metadata": {},
   "source": [
    "# Homework clase 3"
   ]
  },
  {
   "cell_type": "code",
   "execution_count": 1,
   "id": "72668132",
   "metadata": {},
   "outputs": [],
   "source": [
    "import numpy as np\n",
    "import math"
   ]
  },
  {
   "cell_type": "markdown",
   "id": "ecb34da8",
   "metadata": {},
   "source": [
    "1. Suponga dos eventos, A y B, y que P(A) = 0.50, P(B) = 0.60 y P(A ∩ B) = 0.40.\n",
    "\n",
    "a. Halle P(A | B).\n",
    "\n",
    "b. Halle P(B | A).\n",
    "\n",
    "c. ¿A y B son independientes? ¿Por qué sí o por qué no?\n",
    "\n",
    "a. La probabilidad de A dado B es\n",
    "\n",
    "$$P(A | B) = \\frac{P(A \\cap B)}{P(B)} = \\frac{0.40}{0.60} = 0.67$$\n",
    "\n",
    "b. La probabilidad de B dado A es\n",
    "\n",
    "$$P(B | A) = \\frac{P(A \\cap B)}{P(A)} = \\frac{0.40}{0.50} = 0.8$$\n",
    "\n",
    "c. No son independiente porque 0.67 = P(A | B) $\\neq$ P(A) = 0.50 "
   ]
  },
  {
   "cell_type": "markdown",
   "id": "5625669c",
   "metadata": {},
   "source": [
    "2. Suponga dos eventos, A y B, que son mutuamente excluyentes. Admita, además, que P(A) = 0.30 y P(B) = 0.40.\n",
    "\n",
    "a. Obtenga P(A ∩ B). ¿Existe intersección entre los dos conjuntos?.\n",
    "\n",
    "b. Calcule P(A | B).\n",
    "\n",
    "c. Un estudiante de estadística argumenta que los conceptos de eventos mutuamente excluyentes y eventos independientes son en realidad lo mismo y que si los eventos son mutuamente excluyentes deben ser también independientes. ¿Está usted de acuerdo? Use la información sobre las probabilidades para justificar su respuesta.\n",
    "\n",
    "**Respuesta**\n",
    "\n",
    "a. A y B son eventos excluyentes. Por lo tanto, el evento A $\\cap$ B = { }. La probabilidad es, por lo tanto, P(A $\\cap$ B) = 0 \n",
    "\n",
    "b. La probabilidad de A dado B es:\n",
    "\n",
    "$$P(A | B) = \\frac{0}{0.40} = 0$$\n",
    "\n",
    "c. Que dos sucesos sean excluyentes significa que no tienen puntos muestrales en común. Que sean independientes significa que la probabilidad condicional P(A | B) = P(A) o, alternativamente, que P(A $\\cap$ B) = P(A)P(B).\n",
    "\n",
    "Como lo demuestra el ejemplo anterior, dos eventos pueden ser excluyentes pero no independientes. Por lo tanto, no se trata de conceptos equivalentes."
   ]
  },
  {
   "cell_type": "markdown",
   "id": "6b8bbcfc",
   "metadata": {},
   "source": [
    "Dada la siguiente tabla:\n",
    "\n",
    "![autos](img/tablaest.png)\n",
    "\n",
    "Si en la concesionaria se seleccionan dos ventas **con reposición** (Los sucesos son independientes.). Hallar la probabilidad de que las ventas sean:\n",
    "\n",
    "a. La primera de un comprador de “menos de 40 años” y la segunda de uno de \"entre 40 y 50 años\".\n",
    "\n",
    "b. las dos sean de autos \"nacionales\".\n",
    "\n",
    "**Respuestas**\n",
    "\n",
    "\n",
    "a. La probabilidad de que el primer comprador sea menor de 40 años es $\\frac{30}{80}$\n",
    "\n",
    "La probabilidad de que el segundo comprador tenga entre 40 y 50 es $\\frac{34}{80}$\n",
    "\n",
    "Dado que se trata de eventos independientes, podemos calcular la probabilidad de ambos eventos ocurran usando la **regla de la multiplicación**:\n",
    "\n",
    "$$P(\\{(\\text{menos de 40}, \\text{ entre 40 y 50})\\} = P(\\{\\text{menos de 40}\\}) \\times P(\\{\\text{entre 40 y 50}\\}) = \\frac{30}{80} \\times \\frac{34}{80} = 0.16$$\n",
    "\n",
    "b. El cálculo es similar al anterior:\n",
    "\n",
    "$$P(\\{(\\text{nacional}, \\text{ nacional})\\} = P(\\{\\text{nacional}\\}) \\times P(\\{\\text{nacional}\\}) = \\frac{50}{80} \\times \\frac{50}{80} = 0.39$$"
   ]
  },
  {
   "cell_type": "markdown",
   "id": "97427f8a",
   "metadata": {},
   "source": [
    "4. Si la selección de las dos ventas se realiza **sin reposición**. Hallar la probabilidad de que las ventas sean:\n",
    "\n",
    "Los sucesos son condicionales.\n",
    "\n",
    "a. la primera de un comprador de “menos de 40 años” y la segunda de uno de \"entre 40 y 50 años\".\n",
    "\n",
    "b. las dos sean de autos \"nacionales\".\n",
    "\n",
    "**Respuestas**\n",
    "\n",
    "a. La probabilidad de que el primero sea menor de 40 años es $\\frac{30}{80}$\n",
    "\n",
    "La probabilidad de que el segundo tenga entre 40 y 50 es $\\frac{34}{79}$. \n",
    "\n",
    "Por lo tanto, la probabilidad de que ambos eventos ocurran es:\n",
    "\n",
    "$$P(\\text{menos de 40}) \\times P(\\text{entre 40 y 50}) = \\frac{30}{80} \\times \\frac{34}{79} = 0.16$$\n",
    "\n",
    "b. La probabilidad de que el primero sea nacional es $\\frac{50}{80}$.\n",
    "\n",
    "La probabilidad de que el segundo sea nacional es $\\frac{49}{79}$\n",
    "\n",
    "La probabilidad de que ocurran los dos eventos es:\n",
    "\n",
    "$$P(\\text{nacional}) \\times P(\\text{nacional}) = \\frac{50}{80} \\times \\frac{49}{79} = 0.39$$"
   ]
  },
  {
   "cell_type": "markdown",
   "id": "ec1e4248",
   "metadata": {},
   "source": [
    "5. Si la selección de las dos ventas se realiza sin reposición. Hallar la probabilidad de que las ventas sean:\n",
    "\n",
    "Los sucesos son condicionales.\n",
    "\n",
    "a. De un comprador de “menos de 40 años” y de uno de \"entre 40 y 50 años\". Sin importar el orden.\n",
    "\n",
    "Esto quiere decir de que el par (menos de 40, entre 40 y 50) y el par (entre 40 y 50, menos de 40) satisfacen la consigna.\n",
    "\n",
    "La probabilidad del primer par es, como se vio:\n",
    "\n",
    "$$P(\\text{menos de 40}) \\times P(\\text{entre 40 y 50}) = \\frac{30}{80} \\times \\frac{34}{79} = 0.16$$\n",
    "\n",
    "La probabilidad del segundo par es:\n",
    "\n",
    "$$P(\\text{entre 40 y 50}) \\times P(\\text{menos de 40}) = \\frac{34}{80} \\times \\frac{30}{79} = 0.16$$\n",
    "\n",
    "La probabilidad de que ocurra cualquiera de esos dos eventos (que no tienen puntos muestrales en común) se obtiene mediante la regla de la suma para **eventos excluyentes**\n",
    "\n",
    "$$P(A \\cup B) = P(A) + P(B) = 0.16 + 0.16 = 0.32$$"
   ]
  },
  {
   "cell_type": "markdown",
   "id": "38a6191d",
   "metadata": {},
   "source": [
    "6. Debido al aumento de los costos de los seguros, en un país de 43 millones de personas, hay personas que no cuentan con un seguro médico. En la tabla siguiente se muestran datos muestrales representativos de la cantidad de personas que cuentan con seguro médico:\n",
    "\n",
    "![Seguro](img/seguro.png)\n",
    "\n",
    "a. Con estos datos elabore una tabla de probabilidad conjunta y úsela para responder las preguntas restantes.\n",
    "\n",
    "b. ¿Qué indican las probabilidades marginales acerca de la edad de la población?\n",
    "\n",
    "c. ¿Cuál es la probabilidad de que una persona tomada en forma aleatoria no tenga seguro médico?\n",
    "\n",
    "d. Si la persona tiene entre 18 y 34 años, ¿cuál es la probabilidad de que no tenga seguro médico?\n",
    "\n",
    "e. Si la persona tiene 35 años o más ¿cuál es la probabilidad de que no tenga seguro médico?\n",
    "\n",
    "f. Si la persona no tiene seguro médico, ¿cuál es la probabilidad de que tenga entre 18 y 34 años?"
   ]
  },
  {
   "cell_type": "code",
   "execution_count": 2,
   "id": "8da5d4cd",
   "metadata": {},
   "outputs": [],
   "source": [
    "df_dict = {\n",
    "    \"Sí\": [750, 950],\n",
    "    \"No\": [170, 130]\n",
    "}"
   ]
  },
  {
   "cell_type": "code",
   "execution_count": 3,
   "id": "d5e9608d",
   "metadata": {},
   "outputs": [],
   "source": [
    "import pandas as pd\n",
    "\n",
    "df = pd.DataFrame(df_dict, index=[\"18 a 34\", \"35 o mayor\"])"
   ]
  },
  {
   "cell_type": "code",
   "execution_count": 4,
   "id": "6f84f936",
   "metadata": {},
   "outputs": [
    {
     "data": {
      "text/html": [
       "<div>\n",
       "<style scoped>\n",
       "    .dataframe tbody tr th:only-of-type {\n",
       "        vertical-align: middle;\n",
       "    }\n",
       "\n",
       "    .dataframe tbody tr th {\n",
       "        vertical-align: top;\n",
       "    }\n",
       "\n",
       "    .dataframe thead th {\n",
       "        text-align: right;\n",
       "    }\n",
       "</style>\n",
       "<table border=\"1\" class=\"dataframe\">\n",
       "  <thead>\n",
       "    <tr style=\"text-align: right;\">\n",
       "      <th></th>\n",
       "      <th>Sí</th>\n",
       "      <th>No</th>\n",
       "    </tr>\n",
       "  </thead>\n",
       "  <tbody>\n",
       "    <tr>\n",
       "      <th>18 a 34</th>\n",
       "      <td>750</td>\n",
       "      <td>170</td>\n",
       "    </tr>\n",
       "    <tr>\n",
       "      <th>35 o mayor</th>\n",
       "      <td>950</td>\n",
       "      <td>130</td>\n",
       "    </tr>\n",
       "  </tbody>\n",
       "</table>\n",
       "</div>"
      ],
      "text/plain": [
       "             Sí   No\n",
       "18 a 34     750  170\n",
       "35 o mayor  950  130"
      ]
     },
     "execution_count": 4,
     "metadata": {},
     "output_type": "execute_result"
    }
   ],
   "source": [
    "df"
   ]
  },
  {
   "cell_type": "code",
   "execution_count": 5,
   "id": "e337d183",
   "metadata": {},
   "outputs": [],
   "source": [
    "total = np.sum(np.array(df))"
   ]
  },
  {
   "cell_type": "code",
   "execution_count": 6,
   "id": "1b27ef62",
   "metadata": {},
   "outputs": [
    {
     "data": {
      "text/plain": [
       "0.375"
      ]
     },
     "execution_count": 6,
     "metadata": {},
     "output_type": "execute_result"
    }
   ],
   "source": [
    "750/total"
   ]
  },
  {
   "cell_type": "code",
   "execution_count": 7,
   "id": "83a9762f",
   "metadata": {},
   "outputs": [],
   "source": [
    "df.loc[\"Total\"] = [np.sum(df['Sí']), np.sum(df[\"No\"])] "
   ]
  },
  {
   "cell_type": "code",
   "execution_count": 8,
   "id": "75036a82",
   "metadata": {},
   "outputs": [
    {
     "data": {
      "text/html": [
       "<div>\n",
       "<style scoped>\n",
       "    .dataframe tbody tr th:only-of-type {\n",
       "        vertical-align: middle;\n",
       "    }\n",
       "\n",
       "    .dataframe tbody tr th {\n",
       "        vertical-align: top;\n",
       "    }\n",
       "\n",
       "    .dataframe thead th {\n",
       "        text-align: right;\n",
       "    }\n",
       "</style>\n",
       "<table border=\"1\" class=\"dataframe\">\n",
       "  <thead>\n",
       "    <tr style=\"text-align: right;\">\n",
       "      <th></th>\n",
       "      <th>Sí</th>\n",
       "      <th>No</th>\n",
       "    </tr>\n",
       "  </thead>\n",
       "  <tbody>\n",
       "    <tr>\n",
       "      <th>18 a 34</th>\n",
       "      <td>750</td>\n",
       "      <td>170</td>\n",
       "    </tr>\n",
       "    <tr>\n",
       "      <th>35 o mayor</th>\n",
       "      <td>950</td>\n",
       "      <td>130</td>\n",
       "    </tr>\n",
       "    <tr>\n",
       "      <th>Total</th>\n",
       "      <td>1700</td>\n",
       "      <td>300</td>\n",
       "    </tr>\n",
       "  </tbody>\n",
       "</table>\n",
       "</div>"
      ],
      "text/plain": [
       "              Sí   No\n",
       "18 a 34      750  170\n",
       "35 o mayor   950  130\n",
       "Total       1700  300"
      ]
     },
     "execution_count": 8,
     "metadata": {},
     "output_type": "execute_result"
    }
   ],
   "source": [
    "df"
   ]
  },
  {
   "cell_type": "code",
   "execution_count": 9,
   "id": "391b8d2c",
   "metadata": {},
   "outputs": [],
   "source": [
    "df['Total'] = [df[\"Sí\"][i] + df[\"No\"][i] for i in range(df.shape[0])]"
   ]
  },
  {
   "cell_type": "code",
   "execution_count": 10,
   "id": "5458c8b8",
   "metadata": {},
   "outputs": [
    {
     "data": {
      "text/html": [
       "<div>\n",
       "<style scoped>\n",
       "    .dataframe tbody tr th:only-of-type {\n",
       "        vertical-align: middle;\n",
       "    }\n",
       "\n",
       "    .dataframe tbody tr th {\n",
       "        vertical-align: top;\n",
       "    }\n",
       "\n",
       "    .dataframe thead th {\n",
       "        text-align: right;\n",
       "    }\n",
       "</style>\n",
       "<table border=\"1\" class=\"dataframe\">\n",
       "  <thead>\n",
       "    <tr style=\"text-align: right;\">\n",
       "      <th></th>\n",
       "      <th>Sí</th>\n",
       "      <th>No</th>\n",
       "      <th>Total</th>\n",
       "    </tr>\n",
       "  </thead>\n",
       "  <tbody>\n",
       "    <tr>\n",
       "      <th>18 a 34</th>\n",
       "      <td>750</td>\n",
       "      <td>170</td>\n",
       "      <td>920</td>\n",
       "    </tr>\n",
       "    <tr>\n",
       "      <th>35 o mayor</th>\n",
       "      <td>950</td>\n",
       "      <td>130</td>\n",
       "      <td>1080</td>\n",
       "    </tr>\n",
       "    <tr>\n",
       "      <th>Total</th>\n",
       "      <td>1700</td>\n",
       "      <td>300</td>\n",
       "      <td>2000</td>\n",
       "    </tr>\n",
       "  </tbody>\n",
       "</table>\n",
       "</div>"
      ],
      "text/plain": [
       "              Sí   No  Total\n",
       "18 a 34      750  170    920\n",
       "35 o mayor   950  130   1080\n",
       "Total       1700  300   2000"
      ]
     },
     "execution_count": 10,
     "metadata": {},
     "output_type": "execute_result"
    }
   ],
   "source": [
    "df"
   ]
  },
  {
   "cell_type": "code",
   "execution_count": 11,
   "id": "e1448d4e",
   "metadata": {},
   "outputs": [],
   "source": [
    "df = df[[\"Sí\", \"No\", \"Total\"]] / total"
   ]
  },
  {
   "cell_type": "code",
   "execution_count": 12,
   "id": "b7c9e970",
   "metadata": {},
   "outputs": [
    {
     "data": {
      "text/html": [
       "<div>\n",
       "<style scoped>\n",
       "    .dataframe tbody tr th:only-of-type {\n",
       "        vertical-align: middle;\n",
       "    }\n",
       "\n",
       "    .dataframe tbody tr th {\n",
       "        vertical-align: top;\n",
       "    }\n",
       "\n",
       "    .dataframe thead th {\n",
       "        text-align: right;\n",
       "    }\n",
       "</style>\n",
       "<table border=\"1\" class=\"dataframe\">\n",
       "  <thead>\n",
       "    <tr style=\"text-align: right;\">\n",
       "      <th></th>\n",
       "      <th>Sí</th>\n",
       "      <th>No</th>\n",
       "      <th>Total</th>\n",
       "    </tr>\n",
       "  </thead>\n",
       "  <tbody>\n",
       "    <tr>\n",
       "      <th>18 a 34</th>\n",
       "      <td>0.375</td>\n",
       "      <td>0.085</td>\n",
       "      <td>0.46</td>\n",
       "    </tr>\n",
       "    <tr>\n",
       "      <th>35 o mayor</th>\n",
       "      <td>0.475</td>\n",
       "      <td>0.065</td>\n",
       "      <td>0.54</td>\n",
       "    </tr>\n",
       "    <tr>\n",
       "      <th>Total</th>\n",
       "      <td>0.850</td>\n",
       "      <td>0.150</td>\n",
       "      <td>1.00</td>\n",
       "    </tr>\n",
       "  </tbody>\n",
       "</table>\n",
       "</div>"
      ],
      "text/plain": [
       "               Sí     No  Total\n",
       "18 a 34     0.375  0.085   0.46\n",
       "35 o mayor  0.475  0.065   0.54\n",
       "Total       0.850  0.150   1.00"
      ]
     },
     "execution_count": 12,
     "metadata": {},
     "output_type": "execute_result"
    }
   ],
   "source": [
    "df"
   ]
  },
  {
   "cell_type": "markdown",
   "id": "c3a792af",
   "metadata": {},
   "source": [
    "b. Que el 46% de la población adulta tiene entre 18 y 34 años y el resto más de 35 años."
   ]
  },
  {
   "cell_type": "markdown",
   "id": "2dae360e",
   "metadata": {},
   "source": [
    "c. La probabilidad de que una persona de cualquier edad tomada al azar no tenga seguro médico es del 15%"
   ]
  },
  {
   "cell_type": "markdown",
   "id": "a1989654",
   "metadata": {},
   "source": [
    "d. La probabilidad de que una persona entre 18 y 34 años no tenga seguro médico es:\n",
    "\n",
    "P(No | 18 a 34) = $\\frac{0.085}{0.46}$ = 0.18"
   ]
  },
  {
   "cell_type": "markdown",
   "id": "111c2458",
   "metadata": {},
   "source": [
    "e. La probabilidad de que una persona de al menos 35 años no tenga seguro es:\n",
    "\n",
    "P(No | 35 ó más) = $\\frac{0.065}{0.54}$ = 0.12"
   ]
  },
  {
   "cell_type": "markdown",
   "id": "1d071d42",
   "metadata": {},
   "source": [
    "f. La probabilidad de que una persona tenga entre 18 y 34 dado que no tiene seguro es:\n",
    "\n",
    "P(18 a 34 | No) = $\\frac{0.085}{0.15}$ = 0.57"
   ]
  },
  {
   "cell_type": "code",
   "execution_count": 13,
   "id": "56f37b69",
   "metadata": {},
   "outputs": [
    {
     "data": {
      "text/plain": [
       "0.5666666666666668"
      ]
     },
     "execution_count": 13,
     "metadata": {},
     "output_type": "execute_result"
    }
   ],
   "source": [
    "0.085/0.15"
   ]
  },
  {
   "cell_type": "code",
   "execution_count": null,
   "id": "387f70ca",
   "metadata": {},
   "outputs": [],
   "source": []
  }
 ],
 "metadata": {
  "kernelspec": {
   "display_name": "Python 3 (ipykernel)",
   "language": "python",
   "name": "python3"
  },
  "language_info": {
   "codemirror_mode": {
    "name": "ipython",
    "version": 3
   },
   "file_extension": ".py",
   "mimetype": "text/x-python",
   "name": "python",
   "nbconvert_exporter": "python",
   "pygments_lexer": "ipython3",
   "version": "3.9.13"
  }
 },
 "nbformat": 4,
 "nbformat_minor": 5
}
