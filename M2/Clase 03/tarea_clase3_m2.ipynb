{
 "cells": [
  {
   "cell_type": "markdown",
   "metadata": {},
   "source": [
    "![HenryLogo](https://d31uz8lwfmyn8g.cloudfront.net/Assets/logo-henry-white-lg.png)\n",
    "\n",
    "## Homework\n",
    "\n",
    "1. Suponga dos eventos, A y B, y que P(A) = 0.50, P(B) = 0.60 y P(A ∩ B) = 0.40.<br>\n",
    "- a. Halle P(A | B).\n",
    "- b. Halle P(B | A).\n",
    "- c. ¿A y B son independientes? ¿Por qué sí o por qué no?"
   ]
  },
  {
   "cell_type": "code",
   "execution_count": 5,
   "metadata": {},
   "outputs": [
    {
     "name": "stdout",
     "output_type": "stream",
     "text": [
      "La probabilidad de A dado B es de 0.667\n",
      "La probabilidad de B dado A es de 0.8\n"
     ]
    }
   ],
   "source": [
    "pa = 0.50\n",
    "pb = 0.60\n",
    "pa_inter_b = 0.40\n",
    "\n",
    "# Hallar P(A | B):\n",
    "print(f\"La probabilidad de A dado B es de {round(pa_inter_b/pb,3)}\")\n",
    "\n",
    "# Hallar P(B | A):\n",
    "print(f\"La probabilidad de B dado A es de {round(pa_inter_b/pa,3)}\")\n",
    "\n",
    "# No son independientes, ya que si existe la posibilidad de que A y B ocurran mutuamente, o ocurran por influencia del otro, no son independientes."
   ]
  },
  {
   "cell_type": "markdown",
   "metadata": {},
   "source": [
    "2. Suponga dos eventos, A y B, que son mutuamente excluyentes. Admita, además, que P(A) = 0.30 y P(B) = 0.40.<br>\n",
    "- a. Obtenga P(A ∩ B). ¿Existe intersección entre los dos conjuntos?.\n",
    "- b. Calcule P(A | B).\n",
    "- c. Un estudiante de estadística argumenta que los conceptos de eventos mutuamente excluyentes y eventos independientes son en realidad lo mismo y que si los eventos son mutuamente excluyentes deben ser también independientes. ¿Está usted de acuerdo? Use la información sobre las probabilidades para justificar su respuesta.\n"
   ]
  },
  {
   "cell_type": "code",
   "execution_count": 2,
   "metadata": {},
   "outputs": [
    {
     "name": "stdout",
     "output_type": "stream",
     "text": [
      "0.0\n",
      "0.0\n"
     ]
    }
   ],
   "source": [
    "# Si los eventos son mutuamente excluyentes, tanto P(A n B) y P(A | B) será de 0.\n",
    "\n",
    "pa_inter_b = 0.4 * 0\n",
    "print(pa_inter_b)\n",
    "\n",
    "pa_dado_b = 0 / 0.40\n",
    "print(pa_dado_b)\n",
    "\n",
    "# No estoy de acuerdo, ya que independencia implica que los eventos pueden pasar al mismo tiempo, o uno seguido después del otro, sin que la aparición de uno o no afecte el otro. El hecho de que sean mutuamente excluyentes implica que no pueden ocurrir al mismo tiempo, o de otro modo, si ocurre uno, el otro no puede ocurrir."
   ]
  },
  {
   "cell_type": "markdown",
   "metadata": {},
   "source": [
    "Dada la siguiente tabla:<br>\n",
    "![Sucesos](../_src/assets/sucesos.PNG)<br>\n",
    "\n",
    "3. Si en la concesionaria se seleccionan dos ventas con reposición (Los sucesos son independientes.). Hallar la probabilidad de que las ventas sean:<br>\n",
    " \n",
    "  - a. La primera de un comprador de “menos de 40 años” y la segunda de uno de \"entre 40 y 50 años\". \n",
    "  \n",
    "  - b. las dos sean de autos \"nacionales\"."
   ]
  },
  {
   "cell_type": "code",
   "execution_count": 2,
   "metadata": {},
   "outputs": [
    {
     "name": "stdout",
     "output_type": "stream",
     "text": [
      "La probabilidad de que el primer comprador sea de menos de 40 años y la segunda entre 40 y 50 es de 0.159375\n",
      "La probabilidad de que los dos sean nacionales es de 0.03515625\n",
      "0.390625\n"
     ]
    }
   ],
   "source": [
    "p_menos40 = 30 / 80 \n",
    "p_entre40_50 = 34 / 80\n",
    "\n",
    "probabilidad_1 = p_menos40 * p_entre40_50\n",
    "print(f\"La probabilidad de que el primer comprador sea de menos de 40 años y la segunda entre 40 y 50 es de {probabilidad_1}\")\n",
    "\n",
    "# B \n",
    "p_menos40_nacionales = 24 / 80\n",
    "p_entre40_50_nacionales = 15 / 80\n",
    "probabilidad_2 = p_entre40_50_nacionales * p_entre40_50_nacionales\n",
    "\n",
    "print(f\"La probabilidad de que los dos sean nacionales es de {probabilidad_2}\")\n",
    "\n",
    "# B interpretación correcta\n",
    "\n",
    "pc = 50 / 80\n",
    "pcn = 50 / 80\n",
    "print(pc*pcn)"
   ]
  },
  {
   "cell_type": "markdown",
   "metadata": {},
   "source": [
    "4. Si la selección de las dos ventas se realiza sin reposición. Hallar la probabilidad de que las ventas sean:<br>\n",
    "  Los sucesos son condicionales.\n",
    "\n",
    " - a. la primera de un comprador de “menos de 40 años” y la segunda de uno de \"entre 40 y 50 años\".\n",
    "\n",
    " - b. las dos sean de autos \"nacionales\"."
   ]
  },
  {
   "cell_type": "code",
   "execution_count": 1,
   "metadata": {},
   "outputs": [
    {
     "name": "stdout",
     "output_type": "stream",
     "text": [
      "La probabilidad de que el comprador sea de 40-50 años, después de uno de <40, es de 0.16139240506329114\n",
      "La probabilidad de que la compra sea nacional entre 40-50 años dado\n",
      "     que la primera compra sea nacional de <40 es de 0.056962025316455694\n",
      "0.3876582278481012\n"
     ]
    }
   ],
   "source": [
    "# A\n",
    "pa = 30 / 80 #probabilidad de menos de 40 años\n",
    "pb = 34 / 79 # probabilidad de que sea entre 40 y 50 años dado que el primero sea de 40.\n",
    "\n",
    "probabilidad_n = pa * pb\n",
    "print(f\"La probabilidad de que el comprador sea de 40-50 años, después de uno de <40, es de {probabilidad_n}\")\n",
    "\n",
    "# B (Interpretación incorrecta)\n",
    "\n",
    "pan = 24 / 80 # probabilidad de que sea nacional de <40 años\n",
    "pbn = 15 / 79 # probabilidad de que sea nacional entre 40-50 años dado que el primero sea nacional de <40.\n",
    "\n",
    "probabilidad_2n = pan * pbn\n",
    "print(f\"La probabilidad de que la compra sea nacional entre 40-50 años dado\\n\"\n",
    "            f\"     que la primera compra sea nacional de <40 es de {probabilidad_2n}\")\n",
    "\n",
    "# B Segunda interpretación (correcta):\n",
    "\n",
    "pc = 50 /80\n",
    "pcn = 49 / 79\n",
    "\n",
    "print(pc*pcn)"
   ]
  },
  {
   "cell_type": "markdown",
   "metadata": {},
   "source": [
    "5. Si la selección de las dos ventas se realiza sin reposición. Hallar la probabilidad de que las ventas sean:<br>\n",
    "  Los sucesos son condicionales.\n",
    "  \n",
    " - a. De un comprador de “menos de 40 años” y de uno de \"entre 40 y 50 años\". Sin importar el orden.\n"
   ]
  },
  {
   "cell_type": "code",
   "execution_count": 5,
   "metadata": {},
   "outputs": [
    {
     "name": "stdout",
     "output_type": "stream",
     "text": [
      "Mi solución fue 0.6386075949367089\n",
      "La solución correcta es 0.3227848101265823\n"
     ]
    }
   ],
   "source": [
    "pa = 30 / 80\n",
    "pb = 34 / 80\n",
    "pn = (30/80) * (34/79)\n",
    "\n",
    "prob_conjunta = pa + pb - pn\n",
    "print(f\"Mi solución fue {prob_conjunta}\")\n",
    "\n",
    "print(f\"La solución correcta es {(30/80) * (34/79) + (34/80) * (30/79)}\")"
   ]
  },
  {
   "cell_type": "markdown",
   "metadata": {},
   "source": [
    "6. Debido al aumento de los costos de los seguros, en un país 43 millones de personas, hay personas que no cuentan con un seguro médico. En la tabla siguiente se muestran datos muestrales representativos de la cantidad de personas que cuentan con seguro médico:<br>\n",
    " ![Seguro](../_src/assets/seguro.PNG)\n",
    "\n",
    "- a. Con estos datos elabore una tabla de probabilidad conjunta y úsela para responder las preguntas restantes.\n",
    "- b. ¿Qué indican las probabilidades marginales acerca de la edad de la población?\n",
    "- c. ¿Cuál es la probabilidad de que una persona tomada en forma aleatoria no tenga seguro médico?\n",
    "- d. Si la persona tiene entre 18 y 34 años, ¿cuál es la probabilidad de que no tenga seguro médico?\n",
    "- e. Si la persona tiene 35 años o más ¿cuál es la probabilidad de que no tenga seguro médico?\n",
    "- f. Si la persona no tiene seguro médico, ¿cuál es la probabilidad de que tenga entre 18 y 34 años?"
   ]
  },
  {
   "cell_type": "code",
   "execution_count": 13,
   "metadata": {},
   "outputs": [],
   "source": [
    "import pandas as pd"
   ]
  },
  {
   "cell_type": "code",
   "execution_count": 30,
   "metadata": {},
   "outputs": [
    {
     "data": {
      "text/html": [
       "<div>\n",
       "<style scoped>\n",
       "    .dataframe tbody tr th:only-of-type {\n",
       "        vertical-align: middle;\n",
       "    }\n",
       "\n",
       "    .dataframe tbody tr th {\n",
       "        vertical-align: top;\n",
       "    }\n",
       "\n",
       "    .dataframe thead th {\n",
       "        text-align: right;\n",
       "    }\n",
       "</style>\n",
       "<table border=\"1\" class=\"dataframe\">\n",
       "  <thead>\n",
       "    <tr style=\"text-align: right;\">\n",
       "      <th></th>\n",
       "      <th>Edades</th>\n",
       "      <th>Sí</th>\n",
       "      <th>No</th>\n",
       "      <th>Totales</th>\n",
       "      <th>Prob_edad</th>\n",
       "      <th>Prob_Sí</th>\n",
       "      <th>Pob_No</th>\n",
       "      <th>P_Sí_Edad</th>\n",
       "      <th>P_No_Edad</th>\n",
       "    </tr>\n",
       "  </thead>\n",
       "  <tbody>\n",
       "    <tr>\n",
       "      <th>0</th>\n",
       "      <td>18 a 34</td>\n",
       "      <td>750</td>\n",
       "      <td>170</td>\n",
       "      <td>920</td>\n",
       "      <td>0.46</td>\n",
       "      <td>0.375</td>\n",
       "      <td>0.085</td>\n",
       "      <td>0.815217</td>\n",
       "      <td>0.184783</td>\n",
       "    </tr>\n",
       "    <tr>\n",
       "      <th>1</th>\n",
       "      <td>35 o mayor</td>\n",
       "      <td>950</td>\n",
       "      <td>130</td>\n",
       "      <td>1080</td>\n",
       "      <td>0.54</td>\n",
       "      <td>0.475</td>\n",
       "      <td>0.065</td>\n",
       "      <td>0.879630</td>\n",
       "      <td>0.120370</td>\n",
       "    </tr>\n",
       "    <tr>\n",
       "      <th>2</th>\n",
       "      <td>Total</td>\n",
       "      <td>1700</td>\n",
       "      <td>300</td>\n",
       "      <td>2000</td>\n",
       "      <td>1.00</td>\n",
       "      <td>0.850</td>\n",
       "      <td>0.150</td>\n",
       "      <td>0.850000</td>\n",
       "      <td>0.150000</td>\n",
       "    </tr>\n",
       "  </tbody>\n",
       "</table>\n",
       "</div>"
      ],
      "text/plain": [
       "       Edades    Sí   No  Totales  Prob_edad  Prob_Sí  Pob_No  P_Sí_Edad  \\\n",
       "0     18 a 34   750  170      920       0.46    0.375   0.085   0.815217   \n",
       "1  35 o mayor   950  130     1080       0.54    0.475   0.065   0.879630   \n",
       "2       Total  1700  300     2000       1.00    0.850   0.150   0.850000   \n",
       "\n",
       "   P_No_Edad  \n",
       "0   0.184783  \n",
       "1   0.120370  \n",
       "2   0.150000  "
      ]
     },
     "execution_count": 30,
     "metadata": {},
     "output_type": "execute_result"
    }
   ],
   "source": [
    "data = {\"Edades\": [\"18 a 34\",\"35 o mayor\"],\n",
    "        \"Sí\":[750,950],\n",
    "        \"No\":[170,130]}\n",
    "a = {\"Edades\":[\"Total\"],\n",
    "    \"Sí\":[750+950],\n",
    "    \"No\":[170+130]}\n",
    "total = pd.DataFrame(a)\n",
    "seguros = pd.DataFrame(data)\n",
    "seguros = pd.concat([seguros,total],axis=0,ignore_index=True)\n",
    "seguros[\"Totales\"] = seguros[\"Sí\"] + seguros[\"No\"]\n",
    "seguros[\"Prob_edad\"] = seguros[\"Totales\"] / seguros[\"Totales\"][2]\n",
    "seguros[\"Prob_Sí\"] = seguros[\"Sí\"] / seguros[\"Totales\"][2]\n",
    "seguros[\"Pob_No\"] = seguros[\"No\"] / seguros[\"Totales\"][2]\n",
    "seguros[\"P_Sí_Edad\"] = seguros[\"Sí\"] / seguros[\"Totales\"]\n",
    "seguros[\"P_No_Edad\"] = seguros[\"No\"] / seguros[\"Totales\"]\n",
    "\n",
    "seguros"
   ]
  },
  {
   "cell_type": "code",
   "execution_count": null,
   "metadata": {},
   "outputs": [],
   "source": [
    "# Respuestas\n",
    "# b. ¿Qué indican las probabilidades marginales acerca de la edad de la población? Indican que aproximadamente el 46% de las personas están entre los 18 y 34 años, y el 54% tiene más de 35 años.\n",
    "# c. ¿Cuál es la probabilidad de que una persona tomada en forma aleatoria no tenga seguro médico? La probabilidad es de 0.15 de que no tenga seguro médico.\n",
    "# d. Si la persona tiene entre 18 y 34 años, ¿cuál es la probabilidad de que no tenga seguro médico? La probabilidad es de 0.18 para el grupo etario.\n",
    "# e. Si la persona tiene 35 años o más ¿cuál es la probabilidad de que no tenga seguro médico? La probabilidad es de 0.12 para el grupo etario.\n",
    "# f. Si la persona no tiene seguro médico, ¿cuál es la probabilidad de que tenga entre 18 y 34 años? Es de 0.57 (170 / 300)"
   ]
  }
 ],
 "metadata": {
  "kernelspec": {
   "display_name": "Python 3",
   "language": "python",
   "name": "python3"
  },
  "language_info": {
   "codemirror_mode": {
    "name": "ipython",
    "version": 3
   },
   "file_extension": ".py",
   "mimetype": "text/x-python",
   "name": "python",
   "nbconvert_exporter": "python",
   "pygments_lexer": "ipython3",
   "version": "3.11.5"
  },
  "orig_nbformat": 4
 },
 "nbformat": 4,
 "nbformat_minor": 2
}
