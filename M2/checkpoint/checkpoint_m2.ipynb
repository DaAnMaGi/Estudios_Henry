{
 "cells": [
  {
   "cell_type": "markdown",
   "metadata": {},
   "source": [
    "Un jugador tiene dos dados, luego lanza los dos dados a la vez y suma el resultado obtenido de los dados lanzados, ¿cuál es la suma resultante más probable al momento de lanzar los dos dados?"
   ]
  },
  {
   "cell_type": "code",
   "execution_count": 1,
   "metadata": {},
   "outputs": [
    {
     "data": {
      "text/plain": [
       "7"
      ]
     },
     "execution_count": 1,
     "metadata": {},
     "output_type": "execute_result"
    }
   ],
   "source": [
    "7"
   ]
  },
  {
   "cell_type": "markdown",
   "metadata": {},
   "source": [
    "Realizando un estudio de las situaciones anormales no-deseadas mensuales ocurridas en un proceso de una empresa de servicios, se detectaron los siguientes totales registrados por mes los que ya han sido ordenados de menor a mayor: 4, 5, 6, 6, 8, 8, 9, 10, 11, 13, 13, 16, 17, 18, 19, 21, 21, 22, 24 y 24. Se necesita a partir de dichos datos calcular la desviacion estandar"
   ]
  },
  {
   "cell_type": "code",
   "execution_count": 2,
   "metadata": {},
   "outputs": [],
   "source": [
    "import numpy as np"
   ]
  },
  {
   "cell_type": "code",
   "execution_count": 9,
   "metadata": {},
   "outputs": [
    {
     "data": {
      "text/plain": [
       "(20,)"
      ]
     },
     "execution_count": 9,
     "metadata": {},
     "output_type": "execute_result"
    }
   ],
   "source": [
    "datos = np.array([4,5,6,6,8,8,9,10,11,13,13,16,17,18,19,21,21,22,24,24])\n",
    "datos.shape"
   ]
  },
  {
   "cell_type": "code",
   "execution_count": 11,
   "metadata": {},
   "outputs": [
    {
     "name": "stdout",
     "output_type": "stream",
     "text": [
      "6.51\n",
      "6.51\n"
     ]
    }
   ],
   "source": [
    "print(round(datos.std(),2))\n",
    "print(round(np.std(datos),2))"
   ]
  },
  {
   "cell_type": "markdown",
   "metadata": {},
   "source": [
    "Disponiendo de 10 canicas blancas, 8 negras y 2 rojas, se desea calcular la probabilidad de qué: Al sacar una canica y luego otra (sin reposicion) lambas sean de color negro"
   ]
  },
  {
   "cell_type": "code",
   "execution_count": 13,
   "metadata": {},
   "outputs": [],
   "source": [
    "import numpy as np\n",
    "import math as m\n",
    "import pandas as pd"
   ]
  },
  {
   "cell_type": "code",
   "execution_count": 15,
   "metadata": {},
   "outputs": [
    {
     "name": "stdout",
     "output_type": "stream",
     "text": [
      "0.62\n"
     ]
    }
   ],
   "source": [
    "negras = 8/10\n",
    "negras2 = 7/9\n",
    "\n",
    "probabilidad = negras * negras2\n",
    "print(round(probabilidad,2))"
   ]
  },
  {
   "cell_type": "markdown",
   "metadata": {},
   "source": [
    "De acuerdo a los datos brindados la agencia de transito, los dias sábados por la noche se ha observado que el 30% de los conductores que llegan a ser controlados con las pruebas de alcoholemia dan positivo en esta prueba. Un oficial durante su guardia de los sábados llega a inspeccionar a 10 conductores escogidos al azar. ¿Cuál es la probabilidad de qué exactamente 2 conductores se encuentren en estado de ebriedad?"
   ]
  },
  {
   "cell_type": "code",
   "execution_count": 16,
   "metadata": {},
   "outputs": [],
   "source": [
    "from math import e, factorial\n",
    "from statistics import NormalDist\n",
    "from scipy import stats"
   ]
  },
  {
   "cell_type": "code",
   "execution_count": 17,
   "metadata": {},
   "outputs": [],
   "source": [
    "#DISTRIBUCIÓN BINOMIAL\n",
    "def p_binomial(k,n,p):\n",
    "  num_exitos = factorial(n) \n",
    "  num_eventos = factorial (k) * factorial(n-k) \n",
    "  exitos_fracaso = pow(p,k) * pow(1-p,(n-k)) \n",
    "\n",
    "  binomial = (num_exitos / num_eventos) * exitos_fracaso\n",
    "\n",
    "  return binomial"
   ]
  },
  {
   "cell_type": "code",
   "execution_count": 20,
   "metadata": {},
   "outputs": [
    {
     "name": "stdout",
     "output_type": "stream",
     "text": [
      "0.23\n",
      "0.23\n"
     ]
    }
   ],
   "source": [
    "print(round(p_binomial(2,10,0.30),2))\n",
    "print(round(stats.binom(n=10,p=0.30).pmf(2),2))"
   ]
  },
  {
   "cell_type": "markdown",
   "metadata": {},
   "source": [
    "De acuerdo a los datos brindados la agencia de transito, los dias sábados por la noche se ha observado que el 30% de los conductores que llegan a ser controlados con las pruebas de alcoholemia dan positivo en esta prueba. Un oficial durante su guardia de los sábados llega a inspeccionar a 10 conductores escogidos al azar. ¿Cuál es la probabilidad de qué exactamente 5 conductores se encuentren en estado de ebriedad?"
   ]
  },
  {
   "cell_type": "code",
   "execution_count": 21,
   "metadata": {},
   "outputs": [
    {
     "name": "stdout",
     "output_type": "stream",
     "text": [
      "0.1\n",
      "0.1\n"
     ]
    }
   ],
   "source": [
    "print(round(p_binomial(5,10,0.30),2))\n",
    "print(round(stats.binom(n=10,p=0.30).pmf(5),2))"
   ]
  },
  {
   "cell_type": "code",
   "execution_count": null,
   "metadata": {},
   "outputs": [],
   "source": []
  }
 ],
 "metadata": {
  "kernelspec": {
   "display_name": "Python 3",
   "language": "python",
   "name": "python3"
  },
  "language_info": {
   "codemirror_mode": {
    "name": "ipython",
    "version": 3
   },
   "file_extension": ".py",
   "mimetype": "text/x-python",
   "name": "python",
   "nbconvert_exporter": "python",
   "pygments_lexer": "ipython3",
   "version": "3.11.5"
  },
  "orig_nbformat": 4
 },
 "nbformat": 4,
 "nbformat_minor": 2
}
