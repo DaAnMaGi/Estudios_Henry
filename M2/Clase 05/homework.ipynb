{
 "cells": [
  {
   "cell_type": "markdown",
   "metadata": {},
   "source": [
    "![HenryLogo](https://d31uz8lwfmyn8g.cloudfront.net/Assets/logo-henry-white-lg.png)\n",
    "\n",
    "## Homework\n",
    "\n",
    "Instalación MySQL y Wokrbench<br>\n",
    "MySQL Server: [Download](https://dev.mysql.com/downloads/mysql/)<br>\n",
    "MySQL Installer: [Download](https://dev.mysql.com/downloads/installer/)<br>\n",
    "Workbench: [Download](https://dev.mysql.com/downloads/workbench/)<br>\n",
    "MySQL: [Documentation](https://dev.mysql.com/doc/)\n",
    "\n",
    "Crear un modelo relacional basado en el modelo de negocios de Henry:\n",
    "\n",
    "1. Identificar las relaciones.\n",
    "2. Identifcar primery key´s y foreing key´s.\n",
    "3. Definir los tipos de datos.\n",
    "\n",
    "La entidades a modelar junto sus atributos son: <br>\n",
    "* Carrea: ID, Nombre.<br>\n",
    "* Cohorte: ID, Código, Carrera, Fecha de Inicio, Fecha de Finalización, Instructor.<br>\n",
    "* Instructores: ID, Cédula de identidad, Nombre, Apellido, Fecha de Nacimiento, Fecha de Incorporación.<br>\n",
    "* Alumnos: ID, Cédula de identidad, Nombre, Apellido, Fecha de Nacimiento, Fecha de Ingreso, Cohorte.<br>\n",
    "\n",
    "Crear en MySQL las tablas y relaciones del modelo definido.<br>\n",
    "Foreing Key en MySQL: [Download](https://www.w3schools.com/sql/sql_foreignkey.asp)"
   ]
  }
 ],
 "metadata": {
  "kernelspec": {
   "display_name": "Python 3",
   "language": "python",
   "name": "python3"
  },
  "language_info": {
   "name": "python",
   "version": "3.11.5"
  },
  "orig_nbformat": 4
 },
 "nbformat": 4,
 "nbformat_minor": 2
}
