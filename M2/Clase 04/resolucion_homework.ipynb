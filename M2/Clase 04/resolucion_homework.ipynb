{
 "cells": [
  {
   "cell_type": "code",
   "execution_count": 5,
   "metadata": {},
   "outputs": [],
   "source": [
    "from math import e, factorial\n",
    "from statistics import NormalDist"
   ]
  },
  {
   "cell_type": "code",
   "execution_count": 1,
   "metadata": {},
   "outputs": [],
   "source": [
    "#DISTRIBUCIÓN BINOMIAL\n",
    "def funcion_binomial(k,n,p):\n",
    "  num_exitos = factorial(n) \n",
    "  num_eventos = factorial (k) * factorial(n-k) \n",
    "  exitos_fracaso = pow(p,k) * pow(1-p,(n-k)) \n",
    "\n",
    "  binomial = (num_exitos / num_eventos) * exitos_fracaso\n",
    "\n",
    "  return binomial"
   ]
  },
  {
   "cell_type": "code",
   "execution_count": 2,
   "metadata": {},
   "outputs": [],
   "source": [
    "#DISTRIBUCIÓN DE POISSON\n",
    "def probabilidad_poisson(lamba_np,x):\n",
    "     probabilidad = (pow(e,-lamba_np) * pow(lamba_np,x))/factorial(x)\n",
    "     return probabilidad"
   ]
  },
  {
   "cell_type": "code",
   "execution_count": 6,
   "metadata": {},
   "outputs": [],
   "source": [
    "#DISTRIBUCIÓN HIPERGEOMÉTRICA\n",
    "\n",
    "def probabilidad_hipergeometrica(N,X,n,x):\n",
    "  Xx = factorial(X)/(factorial(x)*factorial(X-x))\n",
    "  NX_nx= factorial(N-X)/(factorial(n-x)*factorial((N-X)-(n-x)))\n",
    "  Nn = factorial(N)/(factorial(n)*factorial(N-n))\n",
    "  hipergeometrica = (Xx * NX_nx)/Nn\n",
    "\n",
    "  return hipergeometrica"
   ]
  },
  {
   "cell_type": "markdown",
   "metadata": {},
   "source": [
    "![HenryLogo](https://d31uz8lwfmyn8g.cloudfront.net/Assets/logo-henry-white-lg.png)\n",
    "\n",
    "## Homework\n",
    "\n",
    "1. Considera el experimento que consiste en un empleado que arma un producto.\n",
    "  - a. Defina la variable aleatoria que represente el tiempo en minutos requerido para armar el producto.<br>\n",
    "  - b. ¿Qué valores toma la variable aleatoria?<br>\n",
    "  - c. ¿Es una variable aleatoria discreta o continua?<br>"
   ]
  },
  {
   "cell_type": "code",
   "execution_count": 9,
   "metadata": {},
   "outputs": [],
   "source": [
    "# a) x = minutos usados en armar el producto.\n",
    "# b) x = 0 < x <= infinito positivo. (0,infinito+)\n",
    "# c) Es una variable continua."
   ]
  },
  {
   "cell_type": "markdown",
   "metadata": {},
   "source": [
    "2. Considera el experimento que consiste en lanzar una moneda dos veces.\n",
    "  - a. Enumere los resultados experimentales.\n",
    "  - b. Defina una variable aleatoria que represente el número de caras en los dos lanzamientos.\n",
    "  - c. Dé el valor que la variable aleatoria tomará en cada uno de los resultados experimentales.\n",
    "  - d. ¿Es una variable aleatoria discreta o continua?"
   ]
  },
  {
   "cell_type": "code",
   "execution_count": 11,
   "metadata": {},
   "outputs": [
    {
     "name": "stdout",
     "output_type": "stream",
     "text": [
      "4\n"
     ]
    }
   ],
   "source": [
    "# a\n",
    "H = \"Cara\"\n",
    "T = \"Cruz\"\n",
    "\n",
    "# 2 ** n\n",
    "print(2**2)\n",
    "\n",
    "numero_caras = [[H,H],[H,T],[T,H],[T,T]]\n",
    "\n",
    "# Pregunta b\n",
    "# x = Cantidad de caras que salen --> P(x=1)\n",
    "\n",
    "# Pregunta c\n",
    "preguntac = {1: [[H,H],2], # Hay dos caras.\n",
    "             2: [[H,T],1], # Hay una cara.\n",
    "             3: [[T,H],1], # Hay una cara.\n",
    "             4: [[T,T],0]} # Hay cero caras.\n",
    "\n",
    "# Pregunta d\n",
    "# Es una variable discreta, ya que los valores sólo pueden ser (0,1,2)\n"
   ]
  },
  {
   "cell_type": "markdown",
   "metadata": {},
   "source": [
    "3. Considera las decisiones de compra de los próximos tres clientes que lleguen a la tienda de ropa Martin Clothing Store. De acuerdo con la experiencia, el gerente de la tienda estima que la probabilidad de que un cliente realice una compra es 0.30. \n",
    "  - a. Describa si cumple con las reglas para clasificarlo como un experimiento binomial.\n",
    "  - b. ¿Cuál es la probabilidad de que dos de los próximos tres clientes realicen una compra?\n",
    "  - c. ¿Cuál es la probabilidad de que cuatro de los próximos diez clientes realicen una compra?"
   ]
  },
  {
   "cell_type": "code",
   "execution_count": 13,
   "metadata": {},
   "outputs": [
    {
     "name": "stdout",
     "output_type": "stream",
     "text": [
      "La probabilidad de que 2 de los próximos 3 clientes compren es de 0.189\n",
      "La probabilidad de que cuatro de los próximos 10 clientes compren es de 0.20012094899999994\n"
     ]
    }
   ],
   "source": [
    "p_exito = 0.30\n",
    "\n",
    "# Pregunta a.\n",
    "# Sí cumple porque: 1) las variables en si los clientes compran (caso de éxito) o no compran (fracaso) en la tienda (distribución discreta)\n",
    "#                   2) Las variables son independientes. QUe un cliente compre no afecta que otro lo haga.\n",
    "\n",
    "# Pregunta b\n",
    "print(f\"La probabilidad de que 2 de los próximos 3 clientes compren es de {funcion_binomial(2,3,p_exito)}\")\n",
    "\n",
    "# Pregunta c\n",
    "print(f\"La probabilidad de que cuatro de los próximos 10 clientes compren es de {funcion_binomial(4,10,p_exito)}\")"
   ]
  },
  {
   "cell_type": "markdown",
   "metadata": {},
   "source": [
    "4.  A la oficina de reservaciones de una aerolínea regional llegan 48 llamadas por hora.\n",
    "- a. Calcule la probabilidad de recibir cinco llamadas en un lapso de 5 minutos.\n",
    "- b. Estime la probabilidad de recibir exactamente 10 llamadas en un lapso de 15 minutos.\n",
    "- c. Suponga que no hay ninguna llamada en espera. Si el agente de viajes necesitará 5 minutos para la llamada que está atendiendo, ¿cuántas llamadas habrá en espera para cuando él termine? ¿Cuál es la probabilidad de que no haya ninguna llamada en espera?\n",
    "- d. Si en este momento no hay ninguna llamada, ¿cuál es la probabilidad de que el agente de viajes pueda tomar 3 minutos de descanso sin ser interrumpido por una llamada?"
   ]
  },
  {
   "cell_type": "code",
   "execution_count": 17,
   "metadata": {},
   "outputs": [
    {
     "name": "stdout",
     "output_type": "stream",
     "text": [
      "0.016666666666666666\n",
      "0.8\n"
     ]
    }
   ],
   "source": [
    "# Total de llamadas por minuto\n",
    "\n",
    "# 1 h = 60 min\n",
    "# x h = 1 min\n",
    "\n",
    "h = 1*1/60\n",
    "print(h)\n",
    "\n",
    "# 1 hrs = 48 llamadas\n",
    "# h hrs = x llamadas\n",
    "\n",
    "n_llamadas = (h*48)/1\n",
    "print(n_llamadas)\n"
   ]
  },
  {
   "cell_type": "code",
   "execution_count": 18,
   "metadata": {},
   "outputs": [
    {
     "name": "stdout",
     "output_type": "stream",
     "text": [
      "La probabilidad de recibir 5 llamadas en un lapso de 5 minutos es de 0.15629345185053173\n"
     ]
    }
   ],
   "source": [
    "# Pregunta a\n",
    "\n",
    "llamadas = n_llamadas * 5 # Número de minutos.\n",
    "print(f\"La probabilidad de recibir 5 llamadas en un lapso de 5 minutos es de {probabilidad_poisson(llamadas,5)}\")"
   ]
  },
  {
   "cell_type": "code",
   "execution_count": 19,
   "metadata": {},
   "outputs": [
    {
     "name": "stdout",
     "output_type": "stream",
     "text": [
      "La probabilidad de recibir 10 llamadas en 15 minutos es de 0.1048372558836594\n"
     ]
    }
   ],
   "source": [
    "# Pregunta b \n",
    "llamadas = n_llamadas * 15 # Número de minutos.\n",
    "print(f\"La probabilidad de recibir 10 llamadas en 15 minutos es de {probabilidad_poisson(llamadas,10)}\")"
   ]
  },
  {
   "cell_type": "code",
   "execution_count": 20,
   "metadata": {},
   "outputs": [
    {
     "name": "stdout",
     "output_type": "stream",
     "text": [
      "Al terminar los 5 minutos, deberían haber 4.0 llamadas en espera\n",
      "La probabilidad de que al pasar 5 minutos no haya ninguna llamada es de 0.018315638888734186\n"
     ]
    }
   ],
   "source": [
    "# Pregunta c\n",
    "print(f\"Al terminar los 5 minutos, deberían haber {n_llamadas*5} llamadas en espera\")\n",
    "print(f\"La probabilidad de que al pasar 5 minutos no haya ninguna llamada es de {probabilidad_poisson(n_llamadas*5,0)}\")"
   ]
  },
  {
   "cell_type": "code",
   "execution_count": 21,
   "metadata": {},
   "outputs": [
    {
     "name": "stdout",
     "output_type": "stream",
     "text": [
      "La probabilidad de que, tras haber transcurrido 3 minutos no haya ninguna llamada, es de 0.09071795328941248\n"
     ]
    }
   ],
   "source": [
    "# Pregunta d\n",
    "print(f\"La probabilidad de que, tras haber transcurrido 3 minutos no haya ninguna llamada, es de {probabilidad_poisson(n_llamadas*3,0)}\")"
   ]
  },
  {
   "cell_type": "markdown",
   "metadata": {},
   "source": [
    "5. En una encuesta realizada por Gallup Organization, se les preguntó a los interrogados, “Cuál es el deporte que prefieres ver”. Futbol y básquetbol ocuparon el primero y segundo lugar de preferencia (www.gallup.com, 3 de enero de 2004). Si en un grupo de 10 individuos, siete prefieren futbol y tres prefieren básquetbol. Se toma una muestra aleatoria de tres de estas personas.\n",
    "- a. ¿Cuál es la probabilidad de que exactamente dos prefieren el futbol?\n",
    "- b. ¿De que la mayoría (ya sean dos o tres) prefiere el futbol?"
   ]
  },
  {
   "cell_type": "code",
   "execution_count": 23,
   "metadata": {},
   "outputs": [
    {
     "name": "stdout",
     "output_type": "stream",
     "text": [
      "La probabilidad de que de 3 personas, 2 prefieran el fútbol es de: 0.525\n",
      "La probabilidad de que del grupo de 3 personas, la mayoría prefieran el fútbol es de: 0.8166666666666667\n"
     ]
    }
   ],
   "source": [
    "# Notar = Se realiza una distribución hipergeométrica ya que, al sacar a uno de los individuos de cualquier grupo, el total de individuos disponibles disminuye (no se puede sacar al mismo individuo dos veces)\n",
    "\n",
    "# Pregunta a\n",
    "print(f\"La probabilidad de que de 3 personas, 2 prefieran el fútbol es de: {probabilidad_hipergeometrica(10,7,3,2)}\")\n",
    "\n",
    "# Pregunta b\n",
    "prob_2 = probabilidad_hipergeometrica(10,7,3,2)\n",
    "prob_3 = probabilidad_hipergeometrica(10,7,3,3)\n",
    "\n",
    "print(f\"La probabilidad de que del grupo de 3 personas, la mayoría prefieran el fútbol es de: {prob_2+prob_3}\")"
   ]
  },
  {
   "cell_type": "markdown",
   "metadata": {},
   "source": [
    "6. La probabilidad de que a un estudiante le guste este modulo es de 0.7 (en Henry somos optimistas), cual es la probabilidad de que les guste este módulo a 6 de los 10 estudiantes.<br>"
   ]
  },
  {
   "cell_type": "code",
   "execution_count": 25,
   "metadata": {},
   "outputs": [
    {
     "name": "stdout",
     "output_type": "stream",
     "text": [
      "La probabilidad de que le guste el módulo a 6 de los 10 estudiantes es de 0.20012094900000005\n"
     ]
    }
   ],
   "source": [
    "# En este caso tenemos una distribución binomial, ya que la muestra aleatoria sólo toma dos posibilidades: que le guste o no a las personas el módulo.\n",
    "\n",
    "print(f\"La probabilidad de que le guste el módulo a 6 de los 10 estudiantes es de {funcion_binomial(6,10,0.70)}\")"
   ]
  },
  {
   "cell_type": "markdown",
   "metadata": {},
   "source": [
    "7. De todos los push a Git en un Henry Challenge, el 90% lo envía a término. Si se envían 9 ¿cuál es la probabilidad de que 7 lleguen a término?.<br>"
   ]
  },
  {
   "cell_type": "code",
   "execution_count": 26,
   "metadata": {},
   "outputs": [
    {
     "name": "stdout",
     "output_type": "stream",
     "text": [
      "La probabilidad de que 7 de 9 push al Git lleguen a término es de: 0.17218688399999993\n"
     ]
    }
   ],
   "source": [
    "# Es una distribución binomial, ya que los resultados es que lleguen o no a término.\n",
    "\n",
    "print(f\"La probabilidad de que 7 de 9 push al Git lleguen a término es de: {funcion_binomial(7,9,0.9)}\")"
   ]
  },
  {
   "cell_type": "markdown",
   "metadata": {},
   "source": [
    "8. En relación con el enunciado anterior cálcule la probabilidad de que 7 o más lleguen a término.<br>\n",
    "Distribución de Poisson:<br>"
   ]
  },
  {
   "cell_type": "code",
   "execution_count": 27,
   "metadata": {},
   "outputs": [
    {
     "name": "stdout",
     "output_type": "stream",
     "text": [
      "La probabilidad de que 7 o más lleguen a término es de 0.9470278620000001\n"
     ]
    }
   ],
   "source": [
    "# En este caso, es necesario sumar las probabilidades de 7, 8 y 9:\n",
    "prob_7 = funcion_binomial(7,9,0.9)\n",
    "prob_8 = funcion_binomial(8,9,0.9)\n",
    "prob_9 = funcion_binomial(9,9,0.9)\n",
    "\n",
    "print(f\"La probabilidad de que 7 o más lleguen a término es de {prob_7+prob_8+prob_9}\")"
   ]
  },
  {
   "cell_type": "markdown",
   "metadata": {},
   "source": [
    "9. La cantidad de alumnos promedio que se ausentan en un día de clases en la carrera de Data Science es de 10. Calcular cual es la probabilidad de que se ausenten 7 alumnos."
   ]
  },
  {
   "cell_type": "code",
   "execution_count": 28,
   "metadata": {},
   "outputs": [
    {
     "name": "stdout",
     "output_type": "stream",
     "text": [
      "La probabilidad de que se ausenten 7 estudiantes en un día de clase es de 0.09007922571921602\n"
     ]
    }
   ],
   "source": [
    "# Se utiliza poisson ya que se mide en tiempo (faltantes x día de clase)\n",
    "\n",
    "print(f\"La probabilidad de que se ausenten 7 estudiantes en un día de clase es de {probabilidad_poisson(10,7)}\")"
   ]
  },
  {
   "cell_type": "markdown",
   "metadata": {},
   "source": [
    "10. Cuando inicia una clase, los estudiantes ingresan a un ritmo de 5 estudiantes por minuto. Calcular cual es la probabilidad de que ingresen 7 estudiantes por minuto.<br>\n"
   ]
  },
  {
   "cell_type": "code",
   "execution_count": 29,
   "metadata": {},
   "outputs": [
    {
     "name": "stdout",
     "output_type": "stream",
     "text": [
      "La probabilidad de que se conecten 7 estudiantes por minuto es de 0.10444486295705402\n"
     ]
    }
   ],
   "source": [
    "# Se utiliza poisson ya que se mide en tiempo (estudiantes x minuto)\n",
    "print(f\"La probabilidad de que se conecten 7 estudiantes por minuto es de {probabilidad_poisson(5,7)}\")"
   ]
  },
  {
   "cell_type": "markdown",
   "metadata": {},
   "source": [
    "## Ejercicios complementarios <br>\n",
    "\n",
    "11. Cada 3 días ingresan 10 estudiantes nuevos al Prep Course de Henry, calcule la probabilidad de que ingresen 15 nuevos estudiantes en un período de 6 días.<br>"
   ]
  },
  {
   "cell_type": "code",
   "execution_count": 30,
   "metadata": {},
   "outputs": [
    {
     "name": "stdout",
     "output_type": "stream",
     "text": [
      "La probabilidad de que ingresen 15 estudiantes en 6 días es de 0.0516488535317584\n"
     ]
    }
   ],
   "source": [
    "# Estudiantes en ingreso por día \n",
    "# 3 días = 10 estudiantes\n",
    "# 1 día = x estudiantes\n",
    "\n",
    "x = (1*10)/3\n",
    "\n",
    "# Probabilidad de estudiantes para 6 días\n",
    "print(f\"La probabilidad de que ingresen 15 estudiantes en 6 días es de {probabilidad_poisson(x*6,15)}\")"
   ]
  },
  {
   "cell_type": "markdown",
   "metadata": {},
   "source": [
    "12. En una distribución de Poisson de lamba_np=3, cual es la probabilidad de x>=1.<br>\n",
    "Distribución Normal:<br>"
   ]
  },
  {
   "cell_type": "code",
   "execution_count": 31,
   "metadata": {},
   "outputs": [
    {
     "name": "stdout",
     "output_type": "stream",
     "text": [
      "La probabilidad de que x sea mayor o igual a 1 es de 0.950212931632136\n"
     ]
    }
   ],
   "source": [
    "# P(x0 = 0)\n",
    "x2 = probabilidad_poisson(3,0)\n",
    "\n",
    "print(f\"La probabilidad de que x sea mayor o igual a 1 es de {1-x2}\")"
   ]
  },
  {
   "cell_type": "markdown",
   "metadata": {},
   "source": [
    "13. La calificación promedio de los estudiantes de Henry es de 78 con una desviación estandar de 25. Cual es la probabilidad de tener estudiantes con calificaciones mayores o iguales 90."
   ]
  },
  {
   "cell_type": "code",
   "execution_count": 37,
   "metadata": {},
   "outputs": [
    {
     "data": {
      "text/plain": [
       "0.48"
      ]
     },
     "execution_count": 37,
     "metadata": {},
     "output_type": "execute_result"
    }
   ],
   "source": [
    "# z = ( variable - media) / desviación\n",
    "z = (90 - 78) / 25\n",
    "z"
   ]
  },
  {
   "cell_type": "code",
   "execution_count": 38,
   "metadata": {},
   "outputs": [
    {
     "data": {
      "text/plain": [
       "0.3156"
      ]
     },
     "execution_count": 38,
     "metadata": {},
     "output_type": "execute_result"
    }
   ],
   "source": [
    "# La probabilidad de tener estudiantes mayores o iguales a 90:\n",
    "p = 0.3156\n",
    "p"
   ]
  }
 ],
 "metadata": {
  "kernelspec": {
   "display_name": "Python 3",
   "language": "python",
   "name": "python3"
  },
  "language_info": {
   "codemirror_mode": {
    "name": "ipython",
    "version": 3
   },
   "file_extension": ".py",
   "mimetype": "text/x-python",
   "name": "python",
   "nbconvert_exporter": "python",
   "pygments_lexer": "ipython3",
   "version": "3.11.4"
  },
  "orig_nbformat": 4
 },
 "nbformat": 4,
 "nbformat_minor": 2
}
